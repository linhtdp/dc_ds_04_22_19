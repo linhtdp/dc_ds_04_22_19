{
 "cells": [
  {
   "cell_type": "markdown",
   "metadata": {},
   "source": [
    "![seaborn](https://d2h0cx97tjks2p.cloudfront.net/blogs/wp-content/uploads/sites/2/2018/07/seaborn.png) \n",
    "# The good, the bad, the seaborn\n",
    "\n",
    "\n",
    "#### Whats wrong with this data visualization? (hint: so many things)\n",
    "![bad image](https://pbs.twimg.com/media/DNTFhGaXcAEbrMO.jpg)\n",
    "\n",
    "Learning goals:\n",
    "- Create a list of best practices for data visualization\n",
    "- Identify the differences between matplotlib and seaborn\n",
    "- Create a visualization with seaborn, applying best practices"
   ]
  },
  {
   "cell_type": "markdown",
   "metadata": {},
   "source": [
    "## Goal 1: Create a list of best practices for data visualization\n",
    "\n",
    "Documenting best practices:\n",
    "\n",
    "In groups: [article 1](https://www.jackhagley.com/What-s-the-difference-between-an-Infographic-and-a-Data-Visualisation), [article 2](https://thoughtbot.com/blog/analyzing-minards-visualization-of-napoleons-1812-march), [article 3](http://dataremixed.com/2016/04/the-design-of-everyday-visualizations/), [article 4](https://visme.co/blog/data-storytelling-tips/),  article 5: Visualizations That Really Work.pdf (in folder), [article 6](https://www.tableau.com/learn/articles/best-beautiful-data-visualization-examples)\n",
    "\n",
    "To fill in: [Best practices doc](https://docs.google.com/document/d/1yf3OfuM3C-hOaQKxz49ARDdXbujBTHXPMeIglUQSAEc/edit?usp=sharing) "
   ]
  },
  {
   "cell_type": "code",
   "execution_count": 19,
   "metadata": {},
   "outputs": [
    {
     "name": "stdout",
     "output_type": "stream",
     "text": [
      "[4, 1, 2, 6, 3, 5]\n"
     ]
    }
   ],
   "source": [
    "from random import shuffle\n",
    "groups = [1,2,3,4,5,6]\n",
    "shuffle(groups)\n",
    "print(groups)"
   ]
  },
  {
   "cell_type": "markdown",
   "metadata": {},
   "source": [
    "## Goal 2:  Identify differences between seaborn & matplotlib\n",
    "\n",
    "\n",
    "### Two code examples to accomplish the same plot:\n",
    "\n",
    "**Resources:**\n",
    "- [python graph gallery on seaborn](https://python-graph-gallery.com/seaborn/)\n",
    "- [seaborn](https://seaborn.pydata.org/)\n",
    "\n",
    "#### Matplotlib\n",
    "```\n",
    "import matplotlib.pyplot as plt\n",
    "import pandas as pd\n",
    "\n",
    "# Initialize Figure and Axes object\n",
    "fig, ax = plt.subplots()\n",
    "\n",
    "# Load in data\n",
    "tips = pd.read_csv(\"https://raw.githubusercontent.com/mwaskom/seaborn-data/master/tips.csv\")\n",
    "\n",
    "# Create violinplot\n",
    "ax.violinplot(tips[\"total_bill\"], vert=False)\n",
    "\n",
    "# Show the plot\n",
    "plt.show()\n",
    "```\n",
    "\n",
    "VS\n",
    "\n",
    "\n",
    "#### Seaborn\n",
    "```\n",
    "import matplotlib.pyplot as plt\n",
    "import seaborn as sns\n",
    "\n",
    "# Load the data\n",
    "tips = sns.load_dataset(\"tips\")\n",
    "\n",
    "# Create violinplot\n",
    "sns.violinplot(x = \"total_bill\", data=tips)\n",
    "\n",
    "# Show the plot\n",
    "plt.show()\n",
    "```\n"
   ]
  },
  {
   "cell_type": "code",
   "execution_count": 17,
   "metadata": {},
   "outputs": [
    {
     "data": {
      "image/png": "[encoded data removed]",
      "text/plain": [
       "<Figure size 432x288 with 1 Axes>"
      ]
     },
     "metadata": {
      "needs_background": "light"
     },
     "output_type": "display_data"
    }
   ],
   "source": [
    "import matplotlib.pyplot as plt\n",
    "%matplotlib inline\n",
    "import pandas as pd\n",
    "\n",
    "# Initialize Figure and Axes object\n",
    "fig, ax = plt.subplots()\n",
    "\n",
    "# Load in data\n",
    "tips = pd.read_csv(\"https://raw.githubusercontent.com/mwaskom/seaborn-data/master/tips.csv\")\n",
    "\n",
    "# Create violinplot\n",
    "ax.violinplot(tips[\"total_bill\"], vert=False)\n",
    "\n",
    "# Show the plot\n",
    "plt.show()"
   ]
  },
  {
   "cell_type": "code",
   "execution_count": 18,
   "metadata": {},
   "outputs": [
    {
     "data": {
      "image/png": "[encoded data removed]",
      "text/plain": [
       "<Figure size 432x288 with 1 Axes>"
      ]
     },
     "metadata": {
      "needs_background": "light"
     },
     "output_type": "display_data"
    }
   ],
   "source": [
    "import matplotlib.pyplot as plt\n",
    "import seaborn as sns\n",
    "\n",
    "# Load the data\n",
    "tips = sns.load_dataset(\"tips\")\n",
    "\n",
    "# Create violinplot\n",
    "sns.violinplot(x = \"total_bill\", data=tips)\n",
    "\n",
    "# Show the plot\n",
    "plt.show()"
   ]
  },
  {
   "cell_type": "markdown",
   "metadata": {},
   "source": [
    "### In depth comparison:\n",
    "\n",
    "#### Groups 1:3\n",
    "\n",
    "For each plot:\n",
    "- How is the code to create it different from the maplotlib code?\n",
    "- What are the customization options? \n",
    "- What are the top 3 most important customization options to know(with code) ?\n",
    "\n",
    "Group 1 - [histograms](https://python-graph-gallery.com/histogram/)<br>\n",
    "Group 2 - [scatter plot](https://python-graph-gallery.com/scatter-plot/)<br>\n",
    "Group 3 - [boxplot](http://python-graph-gallery.com/boxplot/)<br>\n",
    "\n",
    "#### Groups 4:5\n",
    "- What new vocabulary was introduced in these posts?\n",
    "- What is the benefit of these new options?\n",
    "- What code/options do you need to know? \n",
    "\n",
    "Group 4 - [diverging, sequential, discrete color palattes](https://python-graph-gallery.com/101-make-a-color-palette-with-seaborn/)<br>\n",
    "Group 5 - [seaborn themes](https://python-graph-gallery.com/104-seaborn-themes/) <br>\n",
    "\n",
    "#### Group 6:\n",
    "[seaborn themes w matplotlib](https://python-graph-gallery.com/106-seaborn-style-on-matplotlib-plot/)\n",
    "How does this work?\n",
    "\n",
    "_Time to work:_ 15 minutes <br>\n",
    "_Time to discuss as large group:_ 10 minutes"
   ]
  },
  {
   "cell_type": "markdown",
   "metadata": {},
   "source": [
    "## Goal 3: Create a visualization with seaborn, applying best practices\n",
    "\n",
    "[exercise from data world](https://data.world/makeovermonday/2018w37-paying-the-president)"
   ]
  },
  {
   "cell_type": "code",
   "execution_count": 4,
   "metadata": {},
   "outputs": [],
   "source": [
    "import pandas as pd\n",
    "import seaborn as sns\n",
    "from matplotlib import pyplot as plt\n",
    "%matplotlib inline\n",
    "\n",
    "df = pd.read_excel('https://query.data.world/s/lprjtb33joxjep2bdzknk7se6vpkhv')"
   ]
  },
  {
   "cell_type": "code",
   "execution_count": 5,
   "metadata": {},
   "outputs": [
    {
     "data": {
      "text/html": [
       "<div>\n",
       "<style scoped>\n",
       "    .dataframe tbody tr th:only-of-type {\n",
       "        vertical-align: middle;\n",
       "    }\n",
       "\n",
       "    .dataframe tbody tr th {\n",
       "        vertical-align: top;\n",
       "    }\n",
       "\n",
       "    .dataframe thead th {\n",
       "        text-align: right;\n",
       "    }\n",
       "</style>\n",
       "<table border=\"1\" class=\"dataframe\">\n",
       "  <thead>\n",
       "    <tr style=\"text-align: right;\">\n",
       "      <th></th>\n",
       "      <th>type</th>\n",
       "      <th>source</th>\n",
       "      <th>date</th>\n",
       "      <th>amount</th>\n",
       "      <th>purpose_scrubbed</th>\n",
       "      <th>property_scrubbed</th>\n",
       "      <th>purpose</th>\n",
       "      <th>property</th>\n",
       "      <th>city</th>\n",
       "      <th>state</th>\n",
       "    </tr>\n",
       "  </thead>\n",
       "  <tbody>\n",
       "    <tr>\n",
       "      <th>0</th>\n",
       "      <td>FEC</td>\n",
       "      <td>Donald J. Trump for President, Inc.</td>\n",
       "      <td>Apr 1, 2016</td>\n",
       "      <td>9000.00</td>\n",
       "      <td>Rent</td>\n",
       "      <td>Trump Plaza LLC</td>\n",
       "      <td>RENT</td>\n",
       "      <td>TRUMP PLAZA LLC</td>\n",
       "      <td>New York</td>\n",
       "      <td>NY</td>\n",
       "    </tr>\n",
       "    <tr>\n",
       "      <th>1</th>\n",
       "      <td>FEC</td>\n",
       "      <td>Donald J. Trump for President, Inc.</td>\n",
       "      <td>Apr 1, 2016</td>\n",
       "      <td>6000.00</td>\n",
       "      <td>Rent</td>\n",
       "      <td>Trump CPS LLC</td>\n",
       "      <td>RENT</td>\n",
       "      <td>TRUMP CPS LLC</td>\n",
       "      <td>New York</td>\n",
       "      <td>NY</td>\n",
       "    </tr>\n",
       "    <tr>\n",
       "      <th>2</th>\n",
       "      <td>FEC</td>\n",
       "      <td>Donald J. Trump for President, Inc.</td>\n",
       "      <td>Apr 1, 2017</td>\n",
       "      <td>39816.67</td>\n",
       "      <td>Rent</td>\n",
       "      <td>Trump Tower Commercial LLC</td>\n",
       "      <td>RENT</td>\n",
       "      <td>TRUMP TOWER COMMERCIAL LLC</td>\n",
       "      <td>Hicksville</td>\n",
       "      <td>NY</td>\n",
       "    </tr>\n",
       "    <tr>\n",
       "      <th>3</th>\n",
       "      <td>FEC</td>\n",
       "      <td>Donald J. Trump for President, Inc.</td>\n",
       "      <td>Apr 1, 2017</td>\n",
       "      <td>1000.00</td>\n",
       "      <td>Rent</td>\n",
       "      <td>Trump Restaurants LLC</td>\n",
       "      <td>RENT</td>\n",
       "      <td>TRUMP RESTAURANTS LLC</td>\n",
       "      <td>New York</td>\n",
       "      <td>NY</td>\n",
       "    </tr>\n",
       "    <tr>\n",
       "      <th>4</th>\n",
       "      <td>government</td>\n",
       "      <td>Department of Defense</td>\n",
       "      <td>Apr 10, 2017</td>\n",
       "      <td>1422.00</td>\n",
       "      <td>Lodging</td>\n",
       "      <td>Trump Hotel Panama</td>\n",
       "      <td>Hotels-Lodging</td>\n",
       "      <td>Trump International Hotel &amp; Tower Panama</td>\n",
       "      <td>Panama City</td>\n",
       "      <td>Panama</td>\n",
       "    </tr>\n",
       "  </tbody>\n",
       "</table>\n",
       "</div>"
      ],
      "text/plain": [
       "         type                               source          date    amount  \\\n",
       "0         FEC  Donald J. Trump for President, Inc.   Apr 1, 2016   9000.00   \n",
       "1         FEC  Donald J. Trump for President, Inc.   Apr 1, 2016   6000.00   \n",
       "2         FEC  Donald J. Trump for President, Inc.   Apr 1, 2017  39816.67   \n",
       "3         FEC  Donald J. Trump for President, Inc.   Apr 1, 2017   1000.00   \n",
       "4  government                Department of Defense  Apr 10, 2017   1422.00   \n",
       "\n",
       "  purpose_scrubbed           property_scrubbed         purpose  \\\n",
       "0             Rent             Trump Plaza LLC            RENT   \n",
       "1             Rent               Trump CPS LLC            RENT   \n",
       "2             Rent  Trump Tower Commercial LLC            RENT   \n",
       "3             Rent       Trump Restaurants LLC            RENT   \n",
       "4          Lodging          Trump Hotel Panama  Hotels-Lodging   \n",
       "\n",
       "                                   property         city   state  \n",
       "0                           TRUMP PLAZA LLC     New York      NY  \n",
       "1                             TRUMP CPS LLC     New York      NY  \n",
       "2                TRUMP TOWER COMMERCIAL LLC   Hicksville      NY  \n",
       "3                     TRUMP RESTAURANTS LLC     New York      NY  \n",
       "4  Trump International Hotel & Tower Panama  Panama City  Panama  "
      ]
     },
     "execution_count": 5,
     "metadata": {},
     "output_type": "execute_result"
    }
   ],
   "source": [
    "df.head()"
   ]
  },
  {
   "cell_type": "code",
   "execution_count": 20,
   "metadata": {},
   "outputs": [
    {
     "name": "stdout",
     "output_type": "stream",
     "text": [
      "<class 'pandas.core.frame.DataFrame'>\n",
      "RangeIndex: 1193 entries, 0 to 1192\n",
      "Data columns (total 11 columns):\n",
      "type                 1193 non-null object\n",
      "source               1193 non-null object\n",
      "date                 1188 non-null object\n",
      "amount               1193 non-null float64\n",
      "purpose_scrubbed     1193 non-null object\n",
      "property_scrubbed    1193 non-null object\n",
      "purpose              1182 non-null object\n",
      "property             1193 non-null object\n",
      "city                 1160 non-null object\n",
      "state                1158 non-null object\n",
      "date_obj             1188 non-null datetime64[ns]\n",
      "dtypes: datetime64[ns](1), float64(1), object(9)\n",
      "memory usage: 102.6+ KB\n"
     ]
    }
   ],
   "source": [
    "df.info()"
   ]
  },
  {
   "cell_type": "code",
   "execution_count": 22,
   "metadata": {},
   "outputs": [],
   "source": [
    "df['date_obj'] = df['date'].astype('datetime64[ns]')"
   ]
  },
  {
   "cell_type": "code",
   "execution_count": 7,
   "metadata": {},
   "outputs": [
    {
     "data": {
      "text/plain": [
       "<matplotlib.axes._subplots.AxesSubplot at 0x1266fdd68>"
      ]
     },
     "execution_count": 7,
     "metadata": {},
     "output_type": "execute_result"
    },
    {
     "data": {
      "image/png": "[encoded data removed]",
      "text/plain": [
       "<Figure size 432x288 with 1 Axes>"
      ]
     },
     "metadata": {
      "needs_background": "light"
     },
     "output_type": "display_data"
    }
   ],
   "source": [
    "sns.countplot(x='purpose_scrubbed', data=df)"
   ]
  },
  {
   "cell_type": "code",
   "execution_count": 11,
   "metadata": {},
   "outputs": [
    {
     "data": {
      "text/plain": [
       "<matplotlib.axes._subplots.AxesSubplot at 0x128b01f28>"
      ]
     },
     "execution_count": 11,
     "metadata": {},
     "output_type": "execute_result"
    },
    {
     "data": {
      "image/png": "[encoded data removed]",
      "text/plain": [
       "<Figure size 432x288 with 1 Axes>"
      ]
     },
     "metadata": {
      "needs_background": "light"
     },
     "output_type": "display_data"
    }
   ],
   "source": [
    "sns.barplot(x='purpose_scrubbed', y='amount', estimator=sum, data=df)"
   ]
  },
  {
   "cell_type": "code",
   "execution_count": 15,
   "metadata": {},
   "outputs": [
    {
     "name": "stderr",
     "output_type": "stream",
     "text": [
      "/usr/local/lib/python3.7/site-packages/pandas/plotting/_converter.py:129: FutureWarning: Using an implicitly registered datetime converter for a matplotlib plotting method. The converter was registered by pandas on import. Future versions of pandas will require you to explicitly register matplotlib converters.\n",
      "\n",
      "To register the converters:\n",
      "\t>>> from pandas.plotting import register_matplotlib_converters\n",
      "\t>>> register_matplotlib_converters()\n",
      "  warnings.warn(msg, FutureWarning)\n"
     ]
    },
    {
     "data": {
      "text/plain": [
       "<matplotlib.axes._subplots.AxesSubplot at 0x12916bba8>"
      ]
     },
     "execution_count": 15,
     "metadata": {},
     "output_type": "execute_result"
    },
    {
     "data": {
      "image/png": "[encoded data removed]",
      "text/plain": [
       "<Figure size 432x288 with 1 Axes>"
      ]
     },
     "metadata": {
      "needs_background": "light"
     },
     "output_type": "display_data"
    }
   ],
   "source": [
    "sns.lineplot(x='date_obj', y='amount',\n",
    "             hue='purpose_scrubbed',\n",
    "             data=df)"
   ]
  },
  {
   "cell_type": "markdown",
   "metadata": {},
   "source": [
    "## Reflection:\n",
    "(message Data Science Coaches)\n",
    "- What worked from this training? \n",
    "- What can you apply moving forward?\n",
    "- What's one concept you would like to practice more?"
   ]
  },
  {
   "cell_type": "code",
   "execution_count": null,
   "metadata": {},
   "outputs": [],
   "source": []
  },
  {
   "cell_type": "markdown",
   "metadata": {},
   "source": [
    "#### For extra fun:\n",
    "[visualization challenges](http://www.storytellingwithdata.com/blog/2019/3/1/swdchallenge-visualize-this-data)\n",
    "\n",
    "[seaborn cheatsheet](https://s3.amazonaws.com/assets.datacamp.com/blog_assets/Python_Seaborn_Cheat_Sheet.pdf)"
   ]
  },
  {
   "cell_type": "code",
   "execution_count": null,
   "metadata": {},
   "outputs": [],
   "source": []
  }
 ],
 "metadata": {
  "kernelspec": {
   "display_name": "Python 3",
   "language": "python",
   "name": "python3"
  },
  "language_info": {
   "codemirror_mode": {
    "name": "ipython",
    "version": 3
   },
   "file_extension": ".py",
   "mimetype": "text/x-python",
   "name": "python",
   "nbconvert_exporter": "python",
   "pygments_lexer": "ipython3",
   "version": "3.7.3"
  }
 },
 "nbformat": 4,
 "nbformat_minor": 2
}
