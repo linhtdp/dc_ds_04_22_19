{
 "cells": [
  {
   "cell_type": "code",
   "execution_count": null,
   "metadata": {},
   "outputs": [],
   "source": [
    "# create your first simulation\n",
    "# 1. Open the notebook about python fundmentals \n",
    "# 2. Add records to the dictionary until you have 24 names \n",
    "# 3. loop through the dictionary in pairs (pick two records at a time)\n",
    "# 4. Use numpy random to throw a coin (virtual coin)\n",
    "# 5. if heads delete first record, else delete second record \n",
    "# 6. continue till there is one winner \n",
    "# 7. print winner's name \n",
    "# 8. execute from terminal"
   ]
  },
  {
   "cell_type": "code",
   "execution_count": 71,
   "metadata": {},
   "outputs": [],
   "source": [
    "import numpy as np"
   ]
  },
  {
   "cell_type": "code",
   "execution_count": 75,
   "metadata": {},
   "outputs": [],
   "source": [
    "## create an empty dictionary \n",
    "example_dict = {}\n",
    "\n",
    "## add names to dictionary \n",
    "example_dict['Charles'] = [23.4, \"Darwin\"]\n",
    "\n",
    "example_dict['Alan'] = [42.5, \"Turing\"]\n",
    "\n",
    "example_dict['sam'] = [22.5, \"ace\"]\n",
    "\n",
    "example_dict['Lin'] = [32.5, \"um\"]\n",
    "\n",
    "example_dict['bob'] = [82.5, \"wat\"]\n",
    "\n",
    "example_dict['terry'] = [20, \"luke\"]"
   ]
  },
  {
   "cell_type": "code",
   "execution_count": 76,
   "metadata": {},
   "outputs": [],
   "source": [
    "### Create a dictionary with 32 keys each containing a list of names and ages\n",
    "### I create it with a for loop over the Alphabet \n",
    "### if I reach 32 keys I break out from the for loop\n",
    "age = 20\n",
    "for name in list(map(chr, range(97, 123))):\n",
    "    example_dict[name] = [age, name]\n",
    "    age += 1\n",
    "    if (len(example_dict) == 32):\n",
    "        break"
   ]
  },
  {
   "cell_type": "code",
   "execution_count": 77,
   "metadata": {
    "scrolled": true
   },
   "outputs": [
    {
     "name": "stdout",
     "output_type": "stream",
     "text": [
      "There are 32 contestants left\n",
      "There are 16 contestants left\n",
      "There are 8 contestants left\n",
      "There are 4 contestants left\n",
      "There are 2 contestants left\n",
      "And the winner is... bob\n"
     ]
    }
   ],
   "source": [
    "## The while loop helps me continue an operation as long a condition is met \n",
    "## (in this case as long as I have more than 1 person in the competition)\n",
    "while (len(example_dict.keys()) > 1):\n",
    "    \n",
    "    ## update the keys variable to the ones that are left\n",
    "    keys = list(example_dict.keys())\n",
    "    print('There are', str(len(keys)) + ' contestants left')\n",
    "    \n",
    "    ## run through the indices of the keys in the dictionary in jumps of 2\n",
    "    for key_idx in range(0, len(keys), 2):\n",
    "        contestant_1 = example_dict[keys[key_idx]]\n",
    "        contestant_2 = example_dict[keys[key_idx + 1]]\n",
    "        coin_res = np.random.uniform(0, 1)\n",
    "        ## After throwing the coin we have same chance to get a \n",
    "        ## number smaller than 0.5 as we have to get a number bigger than 0.5\n",
    "        ## so we choose randomly to eliminate the first contestant else the second \n",
    "        if coin_res <= 0.5 : \n",
    "            del example_dict[keys[key_idx]]\n",
    "        else:\n",
    "            del example_dict[keys[key_idx + 1]]\n",
    "    \n",
    "print('And the winner is...', list(example_dict.keys())[0])"
   ]
  },
  {
   "cell_type": "code",
   "execution_count": null,
   "metadata": {},
   "outputs": [],
   "source": []
  }
 ],
 "metadata": {
  "kernelspec": {
   "display_name": "Python 3",
   "language": "python",
   "name": "python3"
  },
  "language_info": {
   "codemirror_mode": {
    "name": "ipython",
    "version": 3
   },
   "file_extension": ".py",
   "mimetype": "text/x-python",
   "name": "python",
   "nbconvert_exporter": "python",
   "pygments_lexer": "ipython3",
   "version": "3.7.1"
  }
 },
 "nbformat": 4,
 "nbformat_minor": 2
}
