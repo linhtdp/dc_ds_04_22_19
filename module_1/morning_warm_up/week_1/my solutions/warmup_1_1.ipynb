{
 "cells": [
  {
   "cell_type": "code",
   "execution_count": 15,
   "metadata": {},
   "outputs": [],
   "source": [
    "name={'Charles': [23.4, \"Darwin\"], 'Alan': [42.5, \"Turing\"], \"Bill\":[75,\"Clinton\"],'Richard':[15,\"Williamson\"]}"
   ]
  },
  {
   "cell_type": "code",
   "execution_count": 15,
   "metadata": {},
   "outputs": [
    {
     "data": {
      "text/plain": [
       "{'Alan': [42.5, 'Turing'],\n",
       " 'Bill': [75, 'Clinton'],\n",
       " 'Richard': [15, 'Williamson']}"
      ]
     },
     "execution_count": 15,
     "metadata": {},
     "output_type": "execute_result"
    }
   ],
   "source": [
    "del name['Charles']\n",
    "name"
   ]
  },
  {
   "cell_type": "code",
   "execution_count": 16,
   "metadata": {},
   "outputs": [
    {
     "name": "stdout",
     "output_type": "stream",
     "text": [
      "Alan\n",
      "Bill\n",
      "Richard\n"
     ]
    },
    {
     "data": {
      "text/plain": [
       "[42.5, 75, 15]"
      ]
     },
     "execution_count": 16,
     "metadata": {},
     "output_type": "execute_result"
    }
   ],
   "source": [
    "ages=[]\n",
    "for i in name:\n",
    "    print(i)\n",
    "    ages.append(name[i][0])\n",
    "ages"
   ]
  },
  {
   "cell_type": "code",
   "execution_count": 26,
   "metadata": {},
   "outputs": [
    {
     "name": "stdout",
     "output_type": "stream",
     "text": [
      "4.0\n"
     ]
    }
   ],
   "source": [
    "ages=[4,5,6,1,2,3,8]\n",
    "for i in range(len(ages)):\n",
    "    count_less = 0\n",
    "    count_more = 0\n",
    "    for j in range(len(ages)):\n",
    "        if ages[j] <= ages[i]:\n",
    "            count_less = count_less+1\n",
    "        if ages[j] >= ages[i]:\n",
    "            count_more = count_more+1\n",
    "    if count_less ==  int(len(ages)/2)+1:\n",
    "        lower_median = ages[i]\n",
    "    if count_more == int(len(ages)/2)+1:\n",
    "        upper_median = ages[i]\n",
    "        \n",
    "median= (lower_median+upper_median)/2\n",
    "print(median)\n",
    "\n",
    "    \n",
    "    \n",
    "    \n",
    "        \n",
    "        "
   ]
  },
  {
   "cell_type": "code",
   "execution_count": 16,
   "metadata": {},
   "outputs": [
    {
     "name": "stdout",
     "output_type": "stream",
     "text": [
      "Charles\n",
      "Alan\n",
      "Bill\n",
      "Richard\n"
     ]
    }
   ],
   "source": [
    "for i in name:\n",
    "    print(i)"
   ]
  },
  {
   "cell_type": "code",
   "execution_count": 19,
   "metadata": {},
   "outputs": [
    {
     "name": "stdout",
     "output_type": "stream",
     "text": [
      "('Charles', [23.4, 'Darwin'])\n",
      "('Alan', [42.5, 'Turing'])\n",
      "('Bill', [75, 'Clinton'])\n",
      "('Richard', [15, 'Williamson'])\n"
     ]
    }
   ],
   "source": [
    "for i in name.items():\n",
    "    print(i)"
   ]
  },
  {
   "cell_type": "code",
   "execution_count": null,
   "metadata": {},
   "outputs": [],
   "source": []
  }
 ],
 "metadata": {
  "kernelspec": {
   "display_name": "Python 3",
   "language": "python",
   "name": "python3"
  },
  "language_info": {
   "codemirror_mode": {
    "name": "ipython",
    "version": 3
   },
   "file_extension": ".py",
   "mimetype": "text/x-python",
   "name": "python",
   "nbconvert_exporter": "python",
   "pygments_lexer": "ipython3",
   "version": "3.6.6"
  }
 },
 "nbformat": 4,
 "nbformat_minor": 2
}
