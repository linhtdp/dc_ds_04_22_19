{
 "cells": [
  {
   "cell_type": "code",
   "execution_count": 10,
   "metadata": {},
   "outputs": [],
   "source": [
    "name={'Charles': [23.4, \"Darwin\"], 'Alan': [42.5, \"Turing\"], \"Bill\":[75,\"Clinton\"],'Richard':[15,\"Williamson\"]}"
   ]
  },
  {
   "cell_type": "code",
   "execution_count": 11,
   "metadata": {},
   "outputs": [
    {
     "data": {
      "text/plain": [
       "{'Alan': [42.5, 'Turing'],\n",
       " 'Bill': [75, 'Clinton'],\n",
       " 'Richard': [15, 'Williamson']}"
      ]
     },
     "execution_count": 11,
     "metadata": {},
     "output_type": "execute_result"
    }
   ],
   "source": [
    "del name['Charles']\n",
    "name"
   ]
  },
  {
   "cell_type": "code",
   "execution_count": 12,
   "metadata": {},
   "outputs": [
    {
     "name": "stdout",
     "output_type": "stream",
     "text": [
      "Alan\n",
      "Bill\n",
      "Richard\n"
     ]
    },
    {
     "data": {
      "text/plain": [
       "[42.5, 75, 15]"
      ]
     },
     "execution_count": 12,
     "metadata": {},
     "output_type": "execute_result"
    }
   ],
   "source": [
    "ages=[]\n",
    "for i in name:\n",
    "    print(i)\n",
    "    ages.append(name[i][0])\n",
    "ages"
   ]
  },
  {
   "cell_type": "code",
   "execution_count": null,
   "metadata": {},
   "outputs": [],
   "source": [
    "mynumber=ages[0]\n",
    "n= len(ages)\n",
    "for i in range(len(ages)): \n",
    "    if ages[i] < mynumber:\n",
    "        mynumber = ages[i]\n",
    "    ages.append(mynumber)\n",
    "    ages\n",
    "    \n",
    "        \n",
    "        "
   ]
  }
 ],
 "metadata": {
  "kernelspec": {
   "display_name": "Python 3",
   "language": "python",
   "name": "python3"
  },
  "language_info": {
   "codemirror_mode": {
    "name": "ipython",
    "version": 3
   },
   "file_extension": ".py",
   "mimetype": "text/x-python",
   "name": "python",
   "nbconvert_exporter": "python",
   "pygments_lexer": "ipython3",
   "version": "3.7.3"
  }
 },
 "nbformat": 4,
 "nbformat_minor": 2
}
