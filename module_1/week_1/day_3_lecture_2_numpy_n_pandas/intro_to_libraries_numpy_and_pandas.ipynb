{
 "cells": [
  {
   "cell_type": "markdown",
   "metadata": {},
   "source": [
    "# Module 1 - Introducing Libraries: NumPy and Pandas\n",
    "## Pandas Part 1"
   ]
  },
  {
   "cell_type": "markdown",
   "metadata": {},
   "source": [
    "### Introduction\n",
    "\n",
    "![austin](http://www.austintexas.gov/sites/default/files/aac_logo.jpg)\n",
    "You have decided that you want to start your own animal shelter, but you want to get an idea of what that will entail and get more information about planning. You have found out that Austin has one of the largest no-kill animal shelters in the country, and they keep meticulous track of animals that have been taken in and released. However, it is a large file, the online visualization tools provided are terrible, the data is sorted as strings, and the file holds an overwhelming amount  of information. Is there an easy way to look at this data? Can we do this with base Python? Is there a better way?\n",
    "\n",
    "\n",
    "#### _Our goals today are to be able to_: <br/>\n",
    "\n",
    "- Identify and import Python libraries\n",
    "- Identify differences between NumPy and base Python in usage and operation\n",
    "- Import/read data using Pandas\n",
    "- Identify Pandas objects and manipulate Pandas objects by index and columns\n",
    "- Filter data using Pandas\n",
    "\n",
    "#### _Big questions for this lesson_: <br/>\n",
    "- What is a package, what do packages do, and why might we want to use them?\n",
    "- When do we want to use NumPy versus Pandas?\n",
    "- What are the advantages of using Pandas?"
   ]
  },
  {
   "cell_type": "markdown",
   "metadata": {},
   "source": [
    "### Activation:\n",
    "\n",
    "![excel](excelpic.jpg)\n",
    "\n",
    "Most people have used Microsoft Excel or Google sheets. But what are the limitations of excel?\n",
    "\n",
    "- [Take a minute to read this article](https://www.bbc.com/news/magazine-22223190)\n",
    "- make a list of problems excel presents\n",
    "\n",
    "How is using python different?"
   ]
  },
  {
   "cell_type": "markdown",
   "metadata": {},
   "source": [
    "### 1. Importing Python Libraries\n",
    "\n",
    "\n",
    "In an earlier lesson, we wrote a function to calculate the mean of an list. That was **tedious**.\n",
    "\n",
    "Thankfully, other people have wrote and optimized functions and wrapped them into `libraries` we can then call and use in our analysis.\n",
    "\n",
    "![numpy](https://raw.githubusercontent.com/donnemartin/data-science-ipython-notebooks/master/images/numpy.png)\n",
    "\n",
    "[NumPy](https://www.numpy.org/) is the fundamental package for scientific computing with Python. \n",
    "\n",
    "\n",
    "To import a package type `import` followed by the name of the library as shown below."
   ]
  },
  {
   "cell_type": "code",
   "execution_count": 153,
   "metadata": {},
   "outputs": [
    {
     "name": "stdout",
     "output_type": "stream",
     "text": [
      "[1 2 3]\n",
      "[4 5 6]\n"
     ]
    }
   ],
   "source": [
    "import numpy \n",
    "\n",
    "x=numpy.array([1,2,3])\n",
    "print(x)\n",
    "\n",
    "#most packages have a standard way to import them\n",
    "import numpy as np\n",
    "\n",
    "y=np.array([4,5,6])\n",
    "print(y)\n"
   ]
  },
  {
   "cell_type": "markdown",
   "metadata": {},
   "source": [
    "Because of numpy we can now get the **mean** and other quick math of lists and arrays."
   ]
  },
  {
   "cell_type": "code",
   "execution_count": 154,
   "metadata": {},
   "outputs": [
    {
     "name": "stdout",
     "output_type": "stream",
     "text": [
      "25.666666666666668\n"
     ]
    }
   ],
   "source": [
    "example = [4,3,25,40,62,20]\n",
    "print(np.mean(example))"
   ]
  },
  {
   "cell_type": "markdown",
   "metadata": {},
   "source": [
    "Now let's import some other packages. We will cover in more detail some fun options for numpy later."
   ]
  },
  {
   "cell_type": "code",
   "execution_count": 155,
   "metadata": {},
   "outputs": [],
   "source": [
    "import scipy\n",
    "import pandas as pd\n",
    "import matplotlib as mpl\n",
    "# this inlines the graphs!\n",
    "%matplotlib inline"
   ]
  },
  {
   "cell_type": "code",
   "execution_count": 156,
   "metadata": {},
   "outputs": [
    {
     "data": {
      "text/plain": [
       "[<matplotlib.lines.Line2D at 0x136490a58>]"
      ]
     },
     "execution_count": 156,
     "metadata": {},
     "output_type": "execute_result"
    },
    {
     "data": {
      "image/png": "[encoded data removed]",
      "text/plain": [
       "<Figure size 432x288 with 1 Axes>"
      ]
     },
     "metadata": {
      "needs_background": "light"
     },
     "output_type": "display_data"
    }
   ],
   "source": [
    "#sometimes we will want to import a specific module from a library\n",
    "import matplotlib.pyplot as plt\n",
    "\n",
    "plt.plot(x,y)"
   ]
  },
  {
   "cell_type": "code",
   "execution_count": 157,
   "metadata": {},
   "outputs": [
    {
     "data": {
      "text/plain": [
       "[<matplotlib.lines.Line2D at 0x1387a2a20>]"
      ]
     },
     "execution_count": 157,
     "metadata": {},
     "output_type": "execute_result"
    },
    {
     "data": {
      "image/png": "[encoded data removed]",
      "text/plain": [
       "<Figure size 432x288 with 1 Axes>"
      ]
     },
     "metadata": {
      "needs_background": "light"
     },
     "output_type": "display_data"
    }
   ],
   "source": [
    "#OR we can also import it this way\n",
    "\n",
    "from matplotlib import pyplot as plt \n",
    "plt.plot(x,y)"
   ]
  },
  {
   "cell_type": "markdown",
   "metadata": {},
   "source": [
    "Try importing the seaborn library as ['sns'](https://en.wikipedia.org/wiki/Sam_Seaborn) which is the convention."
   ]
  },
  {
   "cell_type": "code",
   "execution_count": 158,
   "metadata": {},
   "outputs": [],
   "source": [
    "import seaborn as sns"
   ]
  },
  {
   "cell_type": "markdown",
   "metadata": {},
   "source": [
    "What happens if we mess with naming conventions? For example, import one of our previous libraries as print.\n",
    "\n",
    "\n",
    "PLEASE NOTE THAT WE WILL HAVE TO RESET THE KERNEL AFTER RUNNING THIS. Comment out your code after running it.\n"
   ]
  },
  {
   "cell_type": "code",
   "execution_count": 160,
   "metadata": {},
   "outputs": [
    {
     "name": "stdout",
     "output_type": "stream",
     "text": [
      "[1 2 3]\n"
     ]
    }
   ],
   "source": [
    "#Did we get an error? What about when we run the following command?\n",
    "# import seaborn as print\n",
    "print(x)\n",
    "\n",
    "#Restart your kernel and clear cells"
   ]
  },
  {
   "cell_type": "code",
   "execution_count": 161,
   "metadata": {},
   "outputs": [
    {
     "name": "stdout",
     "output_type": "stream",
     "text": [
      "\n",
      "Please wait a moment while I gather a list of all available modules...\n",
      "\n",
      "IPython             audioop             jedi                runpy\n",
      "__future__          autoreload          jinja2              s3transfer\n",
      "_abc                awscli              jmespath            sched\n",
      "_ast                babel               json                scipy\n",
      "_asyncio            backcall            jsonschema          seaborn\n",
      "_bisect             base64              jupyter             secrets\n",
      "_blake2             bdb                 jupyter_client      select\n",
      "_bootlocale         binascii            jupyter_console     selectors\n",
      "_bz2                binhex              jupyter_core        send2trash\n",
      "_codecs             bisect              keyword             setuptools\n",
      "_codecs_cn          bleach              kiwisolver          shelve\n",
      "_codecs_hk          botocore            leather             shlex\n",
      "_codecs_iso2022     builtins            lib2to3             shutil\n",
      "_codecs_jp          bz2                 libfuturize         signal\n",
      "_codecs_kr          cProfile            libpasteurize       site\n",
      "_codecs_tw          calendar            linecache           sitecustomize\n",
      "_collections        cgi                 locale              six\n",
      "_collections_abc    cgitb               logging             slugify\n",
      "_compat_pickle      chunk               lzma                smtpd\n",
      "_compression        clonevirtualenv     macpath             smtplib\n",
      "_contextvars        cmath               mailbox             sndhdr\n",
      "_crypt              cmd                 mailcap             socket\n",
      "_csv                code                markupsafe          socketserver\n",
      "_ctypes             codecs              marshal             sqlalchemy\n",
      "_ctypes_test        codeop              math                sqlite3\n",
      "_curses             collections         matplotlib          sre_compile\n",
      "_curses_panel       colorama            mimetypes           sre_constants\n",
      "_datetime           colorsys            mistune             sre_parse\n",
      "_dbm                compileall          mmap                ssl\n",
      "_decimal            concurrent          modulefinder        stat\n",
      "_dummy_thread       configparser        multiprocessing     statistics\n",
      "_elementtree        contextlib          nbconvert           statsmodels\n",
      "_functools          contextvars         nbformat            stevedore\n",
      "_gdbm               copy                netrc               storemagic\n",
      "_hashlib            copyreg             nis                 string\n",
      "_heapq              crypt               nntplib             stringprep\n",
      "_imp                csv                 notebook            struct\n",
      "_io                 csvkit              ntpath              subprocess\n",
      "_json               ctypes              nturl2path          sunau\n",
      "_locale             curses              numbers             symbol\n",
      "_lsprof             cycler              numpy               sympyprinting\n",
      "_lzma               cythonmagic         opcode              symtable\n",
      "_markupbase         dataclasses         openpyxl            sys\n",
      "_md5                datetime            operator            sysconfig\n",
      "_multibytecodec     dateutil            optparse            syslog\n",
      "_multiprocessing    dbfread             os                  tabnanny\n",
      "_opcode             dbm                 pandas              tarfile\n",
      "_operator           decimal             pandocfilters       telnetlib\n",
      "_osx_support        decorator           parsedatetime       tempfile\n",
      "_pickle             defusedxml          parser              terminado\n",
      "_posixsubprocess    difflib             parso               termios\n",
      "_py_abc             dis                 past                test\n",
      "_pydecimal          distutils           pathlib             testpath\n",
      "_pyio               doctest             patsy               tests\n",
      "_pyrsistent_version docutils            pbr                 text_unidecode\n",
      "_queue              dummy_threading     pdb                 textwrap\n",
      "_random             easy_install        pexpect             this\n",
      "_scproxy            email               pickle              threading\n",
      "_sha1               encodings           pickleshare         time\n",
      "_sha256             ensurepip           pickletools         timeit\n",
      "_sha3               entrypoints         pip                 tkinter\n",
      "_sha512             enum                pipes               token\n",
      "_signal             errno               pkg_resources       tokenize\n",
      "_sitebuiltins       et_xmlfile          pkgutil             tornado\n",
      "_socket             faulthandler        platform            trace\n",
      "_sqlite3            fcntl               plistlib            traceback\n",
      "_sre                filecmp             poplib              tracemalloc\n",
      "_ssl                fileinput           posix               traitlets\n",
      "_stat               fnmatch             posixpath           tty\n",
      "_string             formatter           powerline           turtle\n",
      "_strptime           fractions           powerline_gitstatus turtledemo\n",
      "_struct             ftplib              pprint              types\n",
      "_symtable           functools           profile             typing\n",
      "_sysconfigdata_m_darwin_darwin future              prometheus_client   unicodedata\n",
      "_testbuffer         gc                  prompt_toolkit      unittest\n",
      "_testcapi           genericpath         pstats              urllib\n",
      "_testimportmultiple getopt              pty                 urllib3\n",
      "_testmultiphase     getpass             ptyprocess          uu\n",
      "_thread             gettext             pvectorc            uuid\n",
      "_threading_local    glob                pwd                 venv\n",
      "_tkinter            grp                 py_compile          virtualenv\n",
      "_tracemalloc        gzip                pyasn1              virtualenv_support\n",
      "_uuid               hashlib             pyclbr              warnings\n",
      "_warnings           heapq               pydoc               wave\n",
      "_weakref            hmac                pydoc_data          wcwidth\n",
      "_weakrefset         html                pyexpat             weakref\n",
      "_xxtestfuzz         http                pygments            webbrowser\n",
      "abc                 idlelib             pylab               webencodings\n",
      "agate               imaplib             pyparsing           wheel\n",
      "agatedbf            imghdr              pyrsistent          widgetsnbextension\n",
      "agateexcel          imp                 pytimeparse         wsgiref\n",
      "agatesql            importlib           pytz                xdrlib\n",
      "aifc                inspect             qtconsole           xlrd\n",
      "antigravity         io                  queue               xml\n",
      "appnope             ipaddress           quopri              xmlrpc\n",
      "argparse            ipdb                random              xxlimited\n",
      "array               ipykernel           re                  xxsubtype\n",
      "ast                 ipykernel_launcher  readline            yaml\n",
      "asynchat            ipython_genutils    reprlib             zipapp\n",
      "asyncio             ipywidgets          resource            zipfile\n",
      "asyncore            isodate             rlcompleter         zipimport\n",
      "atexit              itertools           rmagic              zlib\n",
      "attr                jdcal               rsa                 zmq\n",
      "\n",
      "Enter any module name to get more help.  Or, type \"modules spam\" to search\n",
      "for modules whose name or summary contain the string \"spam\".\n",
      "\n"
     ]
    }
   ],
   "source": [
    "help(\"modules\")"
   ]
  },
  {
   "cell_type": "code",
   "execution_count": 162,
   "metadata": {},
   "outputs": [],
   "source": [
    "import bdb"
   ]
  },
  {
   "cell_type": "markdown",
   "metadata": {},
   "source": [
    "#### Helpful links: library documenation\n",
    "\n",
    "Libraries have associated documentation to explain how to use the different tools included in a library.\n",
    "\n",
    "- [NumPy](https://docs.scipy.org/doc/numpy/)\n",
    "- [SciPy](https://docs.scipy.org/doc/scipy/reference/)\n",
    "- [Pandas](http://pandas.pydata.org/pandas-docs/stable/)\n",
    "- [Matplotlib](https://matplotlib.org/contents.html)"
   ]
  },
  {
   "cell_type": "markdown",
   "metadata": {},
   "source": [
    "### 2. NumPy versus base Python\n",
    "\n",
    "Now that we know libraries exist, why do we want to use them? Let us examine a comparison between base Python and Numpy.\n",
    "\n",
    "Python has lists and normal python can do basic math. NumPy, however, has the helpful objects called arrays.\n",
    "\n",
    "Numpy has a few advantages over base Python which we will look at."
   ]
  },
  {
   "cell_type": "code",
   "execution_count": 163,
   "metadata": {},
   "outputs": [
    {
     "name": "stdout",
     "output_type": "stream",
     "text": [
      "<class 'list'>\n",
      "<class 'numpy.chararray'>\n"
     ]
    }
   ],
   "source": [
    "names_list=['Bob','John','Sally']\n",
    "names_array=numpy.char.array(['Bob','John','Sally']) #use numpy.array for numbers and numpy.char.array for strings\n",
    "print(type(names_list))\n",
    "print(type(names_array))"
   ]
  },
  {
   "cell_type": "code",
   "execution_count": 167,
   "metadata": {},
   "outputs": [],
   "source": [
    "# Make a list and an array of three numbers\n",
    "\n",
    "#your code here\n",
    "numbers_list = [246, 52, 47]\n",
    "numbers_array = numpy.array([246, 52, 47])"
   ]
  },
  {
   "cell_type": "code",
   "execution_count": 168,
   "metadata": {},
   "outputs": [
    {
     "data": {
      "text/plain": [
       "array([123. ,  26. ,  23.5])"
      ]
     },
     "execution_count": 168,
     "metadata": {},
     "output_type": "execute_result"
    }
   ],
   "source": [
    "# divide your array by 2\n",
    "\n",
    "numbers_array/2"
   ]
  },
  {
   "cell_type": "code",
   "execution_count": 169,
   "metadata": {},
   "outputs": [
    {
     "ename": "TypeError",
     "evalue": "unsupported operand type(s) for /: 'list' and 'int'",
     "output_type": "error",
     "traceback": [
      "\u001b[0;31m---------------------------------------------------------------------------\u001b[0m",
      "\u001b[0;31mTypeError\u001b[0m                                 Traceback (most recent call last)",
      "\u001b[0;32m<ipython-input-169-a9b88a30b652>\u001b[0m in \u001b[0;36m<module>\u001b[0;34m\u001b[0m\n\u001b[1;32m      1\u001b[0m \u001b[0;31m# divide your list by 2\u001b[0m\u001b[0;34m\u001b[0m\u001b[0;34m\u001b[0m\u001b[0;34m\u001b[0m\u001b[0m\n\u001b[1;32m      2\u001b[0m \u001b[0;34m\u001b[0m\u001b[0m\n\u001b[0;32m----> 3\u001b[0;31m \u001b[0mnumbers_list\u001b[0m\u001b[0;34m/\u001b[0m\u001b[0;36m2\u001b[0m\u001b[0;34m\u001b[0m\u001b[0;34m\u001b[0m\u001b[0m\n\u001b[0m",
      "\u001b[0;31mTypeError\u001b[0m: unsupported operand type(s) for /: 'list' and 'int'"
     ]
    }
   ],
   "source": [
    "# divide your list by 2\n",
    "\n",
    "numbers_list/2"
   ]
  },
  {
   "cell_type": "markdown",
   "metadata": {},
   "source": [
    "Numpy arrays support the \\_div\\_ operator while python lists do not. There are other things that make it useful to utilize numpy over base python for evaluating data.\n",
    "\n",
    "Below, you will find a piece of code we will use to compare the speed of operations on a list and operations on an array. In this speed test, we will use the library [time](https://docs.python.org/3/library/time.html)."
   ]
  },
  {
   "cell_type": "code",
   "execution_count": 170,
   "metadata": {},
   "outputs": [
    {
     "data": {
      "text/plain": [
       "[0, 1, 2, 3, 4, 5, 6, 7, 8, 9]"
      ]
     },
     "execution_count": 170,
     "metadata": {},
     "output_type": "execute_result"
    }
   ],
   "source": [
    "import time\n",
    "time.time()\n",
    "list(range(10))"
   ]
  },
  {
   "cell_type": "code",
   "execution_count": 171,
   "metadata": {},
   "outputs": [
    {
     "name": "stdout",
     "output_type": "stream",
     "text": [
      "python: 6.9141387939453125e-06 numpy: 0.00014281272888183594\n",
      "Numpy is in this example 0.048414023372287146 times faster!\n"
     ]
    }
   ],
   "source": [
    "import time\n",
    "import numpy as np\n",
    "\n",
    "\n",
    "size_of_vec = 10\n",
    "\n",
    "def pure_python_version():\n",
    "    t1 = time.time()\n",
    "    X = range(size_of_vec)\n",
    "    Y = range(size_of_vec)\n",
    "    Z = [X[i] + Y[i] for i in range(len(X)) ]\n",
    "    return time.time() - t1\n",
    "\n",
    "def numpy_version():\n",
    "    t1 = time.time()\n",
    "    X = np.arange(size_of_vec)\n",
    "    Y = np.arange(size_of_vec)\n",
    "    Z = X + Y\n",
    "    return time.time() - t1\n",
    "\n",
    "\n",
    "t1 = pure_python_version()\n",
    "t2 = numpy_version()\n",
    "print(\"python: \" + str(t1), \"numpy: \"+ str(t2))\n",
    "print(\"Numpy is in this example \" + str(t1/t2) + \" times faster!\")"
   ]
  },
  {
   "cell_type": "markdown",
   "metadata": {},
   "source": [
    "In pairs, run the speed test with a different number, and share your results with the class."
   ]
  },
  {
   "cell_type": "markdown",
   "metadata": {},
   "source": [
    "### 3. Importing and reading data with ACTUAL LITERAL Pandas!\n",
    "\n",
    "\n",
    "![pandas-lib](https://pandas.pydata.org/_static/pandas_logo.png)\n",
    "\n",
    "![alt text](https://cdn-images-1.medium.com/max/1600/1*oBx032ncOwLmCFX3Epo3Zg.jpeg \"https://cdn-images-1.medium.com/max/1600/1*oBx032ncOwLmCFX3Epo3Zg.jpeg\")\n",
    "\n",
    "#### Let's use pandas to read some csv files so we can interact with them.\n",
    "\n",
    "First, let's check which directory we are in so the files we expect to see are there."
   ]
  },
  {
   "cell_type": "code",
   "execution_count": 172,
   "metadata": {},
   "outputs": [
    {
     "name": "stdout",
     "output_type": "stream",
     "text": [
      "/Users/enkeboll/code/fis/dc_ds_04_22_19/module_1/lecture_2_day_3_numpy_n_pandas\n",
      "total 432\n",
      "drwxr-xr-x  8 enkeboll  staff     256 Apr 24 16:53 \u001b[1m\u001b[36m.\u001b[m\u001b[m\n",
      "drwxr-xr-x  7 enkeboll  staff     224 Apr 24 14:10 \u001b[1m\u001b[36m..\u001b[m\u001b[m\n",
      "drwxr-xr-x  3 enkeboll  staff      96 Apr 24 14:43 \u001b[1m\u001b[36m.ipynb_checkpoints\u001b[m\u001b[m\n",
      "-rw-r--r--  1 enkeboll  staff   28729 Apr 24 14:39 copy.ipynb\n",
      "-rw-r--r--  1 enkeboll  staff      62 Apr 24 14:10 example1.csv\n",
      "-rw-r--r--  1 enkeboll  staff   63117 Apr 24 14:10 excelpic.jpg\n",
      "-rw-r--r--  1 enkeboll  staff  112403 Apr 24 16:53 intro_to_libraries_numpy_and_pandas.ipynb\n",
      "-rw-r--r--  1 enkeboll  staff     238 Apr 24 14:10 made_up_jobs.csv\n"
     ]
    }
   ],
   "source": [
    "!pwd\n",
    "!ls -al"
   ]
  },
  {
   "cell_type": "markdown",
   "metadata": {},
   "source": [
    "Did you see that? It is possible to run terminal commands from jupyter notebook by using `!`"
   ]
  },
  {
   "cell_type": "code",
   "execution_count": 173,
   "metadata": {},
   "outputs": [],
   "source": [
    "import pandas as pd\n",
    "example_csv=pd.read_csv('example1.csv')"
   ]
  },
  {
   "cell_type": "markdown",
   "metadata": {},
   "source": [
    "There are also `read_excel` and many other pandas `read` functions."
   ]
  },
  {
   "cell_type": "code",
   "execution_count": 174,
   "metadata": {},
   "outputs": [
    {
     "data": {
      "text/html": [
       "<div>\n",
       "<style scoped>\n",
       "    .dataframe tbody tr th:only-of-type {\n",
       "        vertical-align: middle;\n",
       "    }\n",
       "\n",
       "    .dataframe tbody tr th {\n",
       "        vertical-align: top;\n",
       "    }\n",
       "\n",
       "    .dataframe thead th {\n",
       "        text-align: right;\n",
       "    }\n",
       "</style>\n",
       "<table border=\"1\" class=\"dataframe\">\n",
       "  <thead>\n",
       "    <tr style=\"text-align: right;\">\n",
       "      <th></th>\n",
       "      <th>Title1</th>\n",
       "      <th>Title2</th>\n",
       "      <th>Title3</th>\n",
       "    </tr>\n",
       "  </thead>\n",
       "  <tbody>\n",
       "    <tr>\n",
       "      <th>0</th>\n",
       "      <td>one</td>\n",
       "      <td>two</td>\n",
       "      <td>three</td>\n",
       "    </tr>\n",
       "    <tr>\n",
       "      <th>1</th>\n",
       "      <td>example1</td>\n",
       "      <td>example2</td>\n",
       "      <td>example3</td>\n",
       "    </tr>\n",
       "  </tbody>\n",
       "</table>\n",
       "</div>"
      ],
      "text/plain": [
       "     Title1    Title2    Title3\n",
       "0       one       two     three\n",
       "1  example1  example2  example3"
      ]
     },
     "execution_count": 174,
     "metadata": {},
     "output_type": "execute_result"
    }
   ],
   "source": [
    "example_csv #this is an example template of how to read a csv"
   ]
  },
  {
   "cell_type": "markdown",
   "metadata": {},
   "source": [
    "Try loading in the example file in the directory called 'made_up_jobs.csv' using pandas."
   ]
  },
  {
   "cell_type": "code",
   "execution_count": 175,
   "metadata": {},
   "outputs": [
    {
     "data": {
      "text/html": [
       "<div>\n",
       "<style scoped>\n",
       "    .dataframe tbody tr th:only-of-type {\n",
       "        vertical-align: middle;\n",
       "    }\n",
       "\n",
       "    .dataframe tbody tr th {\n",
       "        vertical-align: top;\n",
       "    }\n",
       "\n",
       "    .dataframe thead th {\n",
       "        text-align: right;\n",
       "    }\n",
       "</style>\n",
       "<table border=\"1\" class=\"dataframe\">\n",
       "  <thead>\n",
       "    <tr style=\"text-align: right;\">\n",
       "      <th></th>\n",
       "      <th>ID</th>\n",
       "      <th>Years Employed</th>\n",
       "    </tr>\n",
       "  </thead>\n",
       "  <tbody>\n",
       "    <tr>\n",
       "      <th>count</th>\n",
       "      <td>6.000000</td>\n",
       "      <td>6.000000</td>\n",
       "    </tr>\n",
       "    <tr>\n",
       "      <th>mean</th>\n",
       "      <td>2.500000</td>\n",
       "      <td>22.500000</td>\n",
       "    </tr>\n",
       "    <tr>\n",
       "      <th>std</th>\n",
       "      <td>1.870829</td>\n",
       "      <td>23.602966</td>\n",
       "    </tr>\n",
       "    <tr>\n",
       "      <th>min</th>\n",
       "      <td>0.000000</td>\n",
       "      <td>2.000000</td>\n",
       "    </tr>\n",
       "    <tr>\n",
       "      <th>25%</th>\n",
       "      <td>1.250000</td>\n",
       "      <td>6.250000</td>\n",
       "    </tr>\n",
       "    <tr>\n",
       "      <th>50%</th>\n",
       "      <td>2.500000</td>\n",
       "      <td>11.500000</td>\n",
       "    </tr>\n",
       "    <tr>\n",
       "      <th>75%</th>\n",
       "      <td>3.750000</td>\n",
       "      <td>40.750000</td>\n",
       "    </tr>\n",
       "    <tr>\n",
       "      <th>max</th>\n",
       "      <td>5.000000</td>\n",
       "      <td>55.000000</td>\n",
       "    </tr>\n",
       "  </tbody>\n",
       "</table>\n",
       "</div>"
      ],
      "text/plain": [
       "             ID  Years Employed\n",
       "count  6.000000        6.000000\n",
       "mean   2.500000       22.500000\n",
       "std    1.870829       23.602966\n",
       "min    0.000000        2.000000\n",
       "25%    1.250000        6.250000\n",
       "50%    2.500000       11.500000\n",
       "75%    3.750000       40.750000\n",
       "max    5.000000       55.000000"
      ]
     },
     "execution_count": 175,
     "metadata": {},
     "output_type": "execute_result"
    }
   ],
   "source": [
    "#read in your csv here!\n",
    "jobs = pd.read_csv('made_up_jobs.csv')\n",
    "\n",
    "\n",
    "#remember that it's nice to be able to look at your data, so let's do that here, too.\n",
    "jobs.describe()\n"
   ]
  },
  {
   "cell_type": "markdown",
   "metadata": {},
   "source": [
    "You can also load in data by using the url of an associated dataset."
   ]
  },
  {
   "cell_type": "code",
   "execution_count": 240,
   "metadata": {},
   "outputs": [
    {
     "data": {
      "text/html": [
       "<div>\n",
       "<style scoped>\n",
       "    .dataframe tbody tr th:only-of-type {\n",
       "        vertical-align: middle;\n",
       "    }\n",
       "\n",
       "    .dataframe tbody tr th {\n",
       "        vertical-align: top;\n",
       "    }\n",
       "\n",
       "    .dataframe thead th {\n",
       "        text-align: right;\n",
       "    }\n",
       "</style>\n",
       "<table border=\"1\" class=\"dataframe\">\n",
       "  <thead>\n",
       "    <tr style=\"text-align: right;\">\n",
       "      <th></th>\n",
       "      <th>Animal ID</th>\n",
       "      <th>Name</th>\n",
       "      <th>DateTime</th>\n",
       "      <th>MonthYear</th>\n",
       "      <th>Date of Birth</th>\n",
       "      <th>Outcome Type</th>\n",
       "      <th>Outcome Subtype</th>\n",
       "      <th>Animal Type</th>\n",
       "      <th>Sex upon Outcome</th>\n",
       "      <th>Age upon Outcome</th>\n",
       "      <th>Breed</th>\n",
       "      <th>Color</th>\n",
       "    </tr>\n",
       "  </thead>\n",
       "  <tbody>\n",
       "    <tr>\n",
       "      <th>0</th>\n",
       "      <td>A793392</td>\n",
       "      <td>NaN</td>\n",
       "      <td>04/24/2019 09:37:00 PM</td>\n",
       "      <td>04/24/2019 09:37:00 PM</td>\n",
       "      <td>04/22/2019</td>\n",
       "      <td>Transfer</td>\n",
       "      <td>Partner</td>\n",
       "      <td>Cat</td>\n",
       "      <td>Intact Male</td>\n",
       "      <td>2 days</td>\n",
       "      <td>Domestic Shorthair Mix</td>\n",
       "      <td>White/Black</td>\n",
       "    </tr>\n",
       "    <tr>\n",
       "      <th>1</th>\n",
       "      <td>A793087</td>\n",
       "      <td>*Jeepers</td>\n",
       "      <td>04/24/2019 07:04:00 PM</td>\n",
       "      <td>04/24/2019 07:04:00 PM</td>\n",
       "      <td>04/19/2017</td>\n",
       "      <td>Adoption</td>\n",
       "      <td>NaN</td>\n",
       "      <td>Dog</td>\n",
       "      <td>Neutered Male</td>\n",
       "      <td>2 years</td>\n",
       "      <td>Harrier Mix</td>\n",
       "      <td>Black/Tricolor</td>\n",
       "    </tr>\n",
       "    <tr>\n",
       "      <th>2</th>\n",
       "      <td>A793417</td>\n",
       "      <td>Diamond</td>\n",
       "      <td>04/24/2019 07:04:00 PM</td>\n",
       "      <td>04/24/2019 07:04:00 PM</td>\n",
       "      <td>04/24/2018</td>\n",
       "      <td>Return to Owner</td>\n",
       "      <td>NaN</td>\n",
       "      <td>Dog</td>\n",
       "      <td>Spayed Female</td>\n",
       "      <td>1 year</td>\n",
       "      <td>Pit Bull Mix</td>\n",
       "      <td>Chocolate/White</td>\n",
       "    </tr>\n",
       "    <tr>\n",
       "      <th>3</th>\n",
       "      <td>A793416</td>\n",
       "      <td>NaN</td>\n",
       "      <td>04/24/2019 07:00:00 PM</td>\n",
       "      <td>04/24/2019 07:00:00 PM</td>\n",
       "      <td>02/24/2019</td>\n",
       "      <td>Euthanasia</td>\n",
       "      <td>Rabies Risk</td>\n",
       "      <td>Other</td>\n",
       "      <td>Unknown</td>\n",
       "      <td>NaN</td>\n",
       "      <td>Raccoon Mix</td>\n",
       "      <td>Black/White</td>\n",
       "    </tr>\n",
       "    <tr>\n",
       "      <th>4</th>\n",
       "      <td>A772415</td>\n",
       "      <td>Sky</td>\n",
       "      <td>04/24/2019 06:48:00 PM</td>\n",
       "      <td>04/24/2019 06:48:00 PM</td>\n",
       "      <td>04/12/2018</td>\n",
       "      <td>Adoption</td>\n",
       "      <td>Foster</td>\n",
       "      <td>Dog</td>\n",
       "      <td>Spayed Female</td>\n",
       "      <td>1 year</td>\n",
       "      <td>Border Collie Mix</td>\n",
       "      <td>Sable</td>\n",
       "    </tr>\n",
       "  </tbody>\n",
       "</table>\n",
       "</div>"
      ],
      "text/plain": [
       "  Animal ID      Name                DateTime               MonthYear  \\\n",
       "0   A793392       NaN  04/24/2019 09:37:00 PM  04/24/2019 09:37:00 PM   \n",
       "1   A793087  *Jeepers  04/24/2019 07:04:00 PM  04/24/2019 07:04:00 PM   \n",
       "2   A793417   Diamond  04/24/2019 07:04:00 PM  04/24/2019 07:04:00 PM   \n",
       "3   A793416       NaN  04/24/2019 07:00:00 PM  04/24/2019 07:00:00 PM   \n",
       "4   A772415       Sky  04/24/2019 06:48:00 PM  04/24/2019 06:48:00 PM   \n",
       "\n",
       "  Date of Birth     Outcome Type Outcome Subtype Animal Type Sex upon Outcome  \\\n",
       "0    04/22/2019         Transfer         Partner         Cat      Intact Male   \n",
       "1    04/19/2017         Adoption             NaN         Dog    Neutered Male   \n",
       "2    04/24/2018  Return to Owner             NaN         Dog    Spayed Female   \n",
       "3    02/24/2019       Euthanasia     Rabies Risk       Other          Unknown   \n",
       "4    04/12/2018         Adoption          Foster         Dog    Spayed Female   \n",
       "\n",
       "  Age upon Outcome                   Breed            Color  \n",
       "0           2 days  Domestic Shorthair Mix      White/Black  \n",
       "1          2 years             Harrier Mix   Black/Tricolor  \n",
       "2           1 year            Pit Bull Mix  Chocolate/White  \n",
       "3              NaN             Raccoon Mix      Black/White  \n",
       "4           1 year       Border Collie Mix            Sable  "
      ]
     },
     "execution_count": 240,
     "metadata": {},
     "output_type": "execute_result"
    }
   ],
   "source": [
    "shelter_data=pd.read_csv('https://data.austintexas.gov/api/views/9t4d-g238/rows.csv?accessType=DOWNLOAD') \n",
    "#this link is copied directly from the download option for CSV\n",
    "\n",
    "shelter_data.head()"
   ]
  },
  {
   "cell_type": "markdown",
   "metadata": {},
   "source": [
    "Now that we can read in data, let's get more comfortable with our Pandas data structures."
   ]
  },
  {
   "cell_type": "code",
   "execution_count": 177,
   "metadata": {},
   "outputs": [
    {
     "data": {
      "text/plain": [
       "pandas.core.frame.DataFrame"
      ]
     },
     "execution_count": 177,
     "metadata": {},
     "output_type": "execute_result"
    }
   ],
   "source": [
    "type(shelter_data)"
   ]
  },
  {
   "cell_type": "code",
   "execution_count": 178,
   "metadata": {},
   "outputs": [
    {
     "data": {
      "text/plain": [
       "pandas.core.series.Series"
      ]
     },
     "execution_count": 178,
     "metadata": {},
     "output_type": "execute_result"
    }
   ],
   "source": [
    "ID_series=shelter_data['Animal ID'] #you can specify particular columns in a data frame in this way.\n",
    "\n",
    "type(ID_series)"
   ]
  },
  {
   "cell_type": "markdown",
   "metadata": {},
   "source": [
    "### 4. Utilizing and identifying Pandas objects\n",
    "\n",
    "- What is a DataFrame object and what is a Series object? \n",
    "- How are they different from Python lists and dictionary objects?\n",
    "\n",
    "These are questions we will cover in this section. To start, let's start with this list of fruits."
   ]
  },
  {
   "cell_type": "code",
   "execution_count": 179,
   "metadata": {},
   "outputs": [
    {
     "name": "stdout",
     "output_type": "stream",
     "text": [
      "['Apple', 'Orange', 'Watermelon', 'Lemon', 'Mango']\n"
     ]
    }
   ],
   "source": [
    "#define your list here!\n",
    "\n",
    "fruits = ['Apple','Orange','Watermelon','Lemon','Mango']\n",
    "\n",
    "print(fruits)"
   ]
  },
  {
   "cell_type": "markdown",
   "metadata": {},
   "source": [
    "Using our list of fruits, we can create a pandas object called a 'series' which is much like an array or a vector."
   ]
  },
  {
   "cell_type": "code",
   "execution_count": 180,
   "metadata": {},
   "outputs": [
    {
     "name": "stdout",
     "output_type": "stream",
     "text": [
      "0         Apple\n",
      "1        Orange\n",
      "2    Watermelon\n",
      "3         Lemon\n",
      "4         Mango\n",
      "dtype: object\n",
      "<class 'list'>\n",
      "<class 'pandas.core.series.Series'>\n"
     ]
    }
   ],
   "source": [
    "fruits_series = pd.Series(fruits)\n",
    "\n",
    "print(fruits_series)\n",
    "print(type(fruits))\n",
    "print(type(fruits_series))"
   ]
  },
  {
   "cell_type": "markdown",
   "metadata": {},
   "source": [
    "One difference between python **list objects** and pandas **series objects** is the fact that you can define the index _manually._"
   ]
  },
  {
   "cell_type": "code",
   "execution_count": 181,
   "metadata": {},
   "outputs": [
    {
     "name": "stdout",
     "output_type": "stream",
     "text": [
      "0         Apple\n",
      "1        Orange\n",
      "2    Watermelon\n",
      "3         Lemon\n",
      "4         Mango\n",
      "dtype: object\n"
     ]
    }
   ],
   "source": [
    "ind = range(len(fruits))\n",
    "\n",
    "fruits_series = pd.Series(fruits,index=ind)\n",
    "\n",
    "print(fruits_series)\n"
   ]
  },
  {
   "cell_type": "markdown",
   "metadata": {},
   "source": [
    "With a partner, create your own custom series from a list of lists."
   ]
  },
  {
   "cell_type": "code",
   "execution_count": 182,
   "metadata": {},
   "outputs": [
    {
     "name": "stdout",
     "output_type": "stream",
     "text": [
      "['cat', 'dog', 'horse', 'cow', 'macaw']\n",
      "0       cat\n",
      "1       dog\n",
      "4     horse\n",
      "9       cow\n",
      "16    macaw\n",
      "dtype: object\n"
     ]
    }
   ],
   "source": [
    "list_of_lists=[['cat'],['dog'],['horse'],['cow'],['macaw']]\n",
    "\n",
    "#create custom indices for your series\n",
    "indices = ['a', 'b', 'c', 'd', 'e']\n",
    "indices = [x**2 for x in range(len(list_of_lists))]\n",
    "\n",
    "#create the series using your list objects\n",
    "#HINT: use a for loop\n",
    "animals = [x[0] for x in list_of_lists]\n",
    "\n",
    "print(animals)\n",
    "\n",
    "animal_series = pd.Series(animals, index=indices)\n",
    "\n",
    "\n",
    "#print your series\n",
    "print(animal_series)"
   ]
  },
  {
   "cell_type": "markdown",
   "metadata": {},
   "source": [
    "We can do a simliar thing with Python dictionaries. This time, however, we will create a DataFrame object from a python dictionary."
   ]
  },
  {
   "cell_type": "code",
   "execution_count": 183,
   "metadata": {},
   "outputs": [
    {
     "data": {
      "text/html": [
       "<div>\n",
       "<style scoped>\n",
       "    .dataframe tbody tr th:only-of-type {\n",
       "        vertical-align: middle;\n",
       "    }\n",
       "\n",
       "    .dataframe tbody tr th {\n",
       "        vertical-align: top;\n",
       "    }\n",
       "\n",
       "    .dataframe thead th {\n",
       "        text-align: right;\n",
       "    }\n",
       "</style>\n",
       "<table border=\"1\" class=\"dataframe\">\n",
       "  <thead>\n",
       "    <tr style=\"text-align: right;\">\n",
       "      <th></th>\n",
       "      <th>name</th>\n",
       "      <th>age</th>\n",
       "      <th>city</th>\n",
       "    </tr>\n",
       "  </thead>\n",
       "  <tbody>\n",
       "    <tr>\n",
       "      <th>0</th>\n",
       "      <td>Samantha</td>\n",
       "      <td>35</td>\n",
       "      <td>Houston</td>\n",
       "    </tr>\n",
       "    <tr>\n",
       "      <th>1</th>\n",
       "      <td>Alex</td>\n",
       "      <td>17</td>\n",
       "      <td>Seattle</td>\n",
       "    </tr>\n",
       "    <tr>\n",
       "      <th>2</th>\n",
       "      <td>Dante</td>\n",
       "      <td>26</td>\n",
       "      <td>New york</td>\n",
       "    </tr>\n",
       "  </tbody>\n",
       "</table>\n",
       "</div>"
      ],
      "text/plain": [
       "       name age      city\n",
       "0  Samantha  35   Houston\n",
       "1      Alex  17   Seattle\n",
       "2     Dante  26  New york"
      ]
     },
     "execution_count": 183,
     "metadata": {},
     "output_type": "execute_result"
    }
   ],
   "source": [
    "# Dictionary with list object in values\n",
    "student_dict = {\n",
    "    'name' : ['Samantha', 'Alex', 'Dante'],\n",
    "    'age' : ['35','17','26'],\n",
    "    'city' : ['Houston', 'Seattle', 'New york']\n",
    "}\n",
    "\n",
    "students_df = pd.DataFrame(student_dict)\n",
    "\n",
    "students_df.head()"
   ]
  },
  {
   "cell_type": "code",
   "execution_count": 184,
   "metadata": {},
   "outputs": [
    {
     "data": {
      "text/plain": [
       "name    object\n",
       "age     object\n",
       "city    object\n",
       "dtype: object"
      ]
     },
     "execution_count": 184,
     "metadata": {},
     "output_type": "execute_result"
    }
   ],
   "source": [
    "#to find data types of columns\n",
    "students_df.dtypes"
   ]
  },
  {
   "cell_type": "markdown",
   "metadata": {},
   "source": [
    "Let's change the data type of ages to int."
   ]
  },
  {
   "cell_type": "code",
   "execution_count": 185,
   "metadata": {},
   "outputs": [
    {
     "data": {
      "text/plain": [
       "0    35\n",
       "1    17\n",
       "2    26\n",
       "Name: age, dtype: int64"
      ]
     },
     "execution_count": 185,
     "metadata": {},
     "output_type": "execute_result"
    }
   ],
   "source": [
    "students_df.age.astype(int)"
   ]
  },
  {
   "cell_type": "code",
   "execution_count": 186,
   "metadata": {},
   "outputs": [
    {
     "data": {
      "text/plain": [
       "name    object\n",
       "age      int64\n",
       "city    object\n",
       "dtype: object"
      ]
     },
     "execution_count": 186,
     "metadata": {},
     "output_type": "execute_result"
    }
   ],
   "source": [
    "students_df.age = students_df.age.astype(int)\n",
    "\n",
    "students_df.dtypes"
   ]
  },
  {
   "cell_type": "markdown",
   "metadata": {},
   "source": [
    "We can also use a custom index for these items. For example, we might want them to be the individual student ID numbers."
   ]
  },
  {
   "cell_type": "code",
   "execution_count": 187,
   "metadata": {},
   "outputs": [
    {
     "data": {
      "text/html": [
       "<div>\n",
       "<style scoped>\n",
       "    .dataframe tbody tr th:only-of-type {\n",
       "        vertical-align: middle;\n",
       "    }\n",
       "\n",
       "    .dataframe tbody tr th {\n",
       "        vertical-align: top;\n",
       "    }\n",
       "\n",
       "    .dataframe thead th {\n",
       "        text-align: right;\n",
       "    }\n",
       "</style>\n",
       "<table border=\"1\" class=\"dataframe\">\n",
       "  <thead>\n",
       "    <tr style=\"text-align: right;\">\n",
       "      <th></th>\n",
       "      <th>name</th>\n",
       "      <th>age</th>\n",
       "      <th>city</th>\n",
       "    </tr>\n",
       "  </thead>\n",
       "  <tbody>\n",
       "    <tr>\n",
       "      <th>1111</th>\n",
       "      <td>Samantha</td>\n",
       "      <td>35</td>\n",
       "      <td>Houston</td>\n",
       "    </tr>\n",
       "    <tr>\n",
       "      <th>1145</th>\n",
       "      <td>Alex</td>\n",
       "      <td>17</td>\n",
       "      <td>Seattle</td>\n",
       "    </tr>\n",
       "    <tr>\n",
       "      <th>0096</th>\n",
       "      <td>Dante</td>\n",
       "      <td>26</td>\n",
       "      <td>New york</td>\n",
       "    </tr>\n",
       "  </tbody>\n",
       "</table>\n",
       "</div>"
      ],
      "text/plain": [
       "          name age      city\n",
       "1111  Samantha  35   Houston\n",
       "1145      Alex  17   Seattle\n",
       "0096     Dante  26  New york"
      ]
     },
     "execution_count": 187,
     "metadata": {},
     "output_type": "execute_result"
    }
   ],
   "source": [
    "school_ids = ['1111','1145','0096']\n",
    "\n",
    "students_df = pd.DataFrame(student_dict,index=school_ids)\n",
    "\n",
    "students_df"
   ]
  },
  {
   "cell_type": "markdown",
   "metadata": {},
   "source": [
    "Using Pandas, we can also rename column names."
   ]
  },
  {
   "cell_type": "code",
   "execution_count": 188,
   "metadata": {},
   "outputs": [
    {
     "data": {
      "text/html": [
       "<div>\n",
       "<style scoped>\n",
       "    .dataframe tbody tr th:only-of-type {\n",
       "        vertical-align: middle;\n",
       "    }\n",
       "\n",
       "    .dataframe tbody tr th {\n",
       "        vertical-align: top;\n",
       "    }\n",
       "\n",
       "    .dataframe thead th {\n",
       "        text-align: right;\n",
       "    }\n",
       "</style>\n",
       "<table border=\"1\" class=\"dataframe\">\n",
       "  <thead>\n",
       "    <tr style=\"text-align: right;\">\n",
       "      <th></th>\n",
       "      <th>NAME</th>\n",
       "      <th>AGE</th>\n",
       "      <th>HOME</th>\n",
       "    </tr>\n",
       "  </thead>\n",
       "  <tbody>\n",
       "    <tr>\n",
       "      <th>1111</th>\n",
       "      <td>Samantha</td>\n",
       "      <td>35</td>\n",
       "      <td>Houston</td>\n",
       "    </tr>\n",
       "    <tr>\n",
       "      <th>1145</th>\n",
       "      <td>Alex</td>\n",
       "      <td>17</td>\n",
       "      <td>Seattle</td>\n",
       "    </tr>\n",
       "    <tr>\n",
       "      <th>0096</th>\n",
       "      <td>Dante</td>\n",
       "      <td>26</td>\n",
       "      <td>New york</td>\n",
       "    </tr>\n",
       "  </tbody>\n",
       "</table>\n",
       "</div>"
      ],
      "text/plain": [
       "          NAME AGE      HOME\n",
       "1111  Samantha  35   Houston\n",
       "1145      Alex  17   Seattle\n",
       "0096     Dante  26  New york"
      ]
     },
     "execution_count": 188,
     "metadata": {},
     "output_type": "execute_result"
    }
   ],
   "source": [
    "students_df.columns = ['NAME', 'AGE','HOME']\n",
    "students_df.head()"
   ]
  },
  {
   "cell_type": "markdown",
   "metadata": {},
   "source": [
    "Or, we can also change the column names using the rename function."
   ]
  },
  {
   "cell_type": "code",
   "execution_count": 189,
   "metadata": {},
   "outputs": [
    {
     "data": {
      "text/html": [
       "<div>\n",
       "<style scoped>\n",
       "    .dataframe tbody tr th:only-of-type {\n",
       "        vertical-align: middle;\n",
       "    }\n",
       "\n",
       "    .dataframe tbody tr th {\n",
       "        vertical-align: top;\n",
       "    }\n",
       "\n",
       "    .dataframe thead th {\n",
       "        text-align: right;\n",
       "    }\n",
       "</style>\n",
       "<table border=\"1\" class=\"dataframe\">\n",
       "  <thead>\n",
       "    <tr style=\"text-align: right;\">\n",
       "      <th></th>\n",
       "      <th>NAME</th>\n",
       "      <th>YEARS</th>\n",
       "      <th>HOME</th>\n",
       "    </tr>\n",
       "  </thead>\n",
       "  <tbody>\n",
       "    <tr>\n",
       "      <th>1111</th>\n",
       "      <td>Samantha</td>\n",
       "      <td>35</td>\n",
       "      <td>Houston</td>\n",
       "    </tr>\n",
       "    <tr>\n",
       "      <th>1145</th>\n",
       "      <td>Alex</td>\n",
       "      <td>17</td>\n",
       "      <td>Seattle</td>\n",
       "    </tr>\n",
       "    <tr>\n",
       "      <th>0096</th>\n",
       "      <td>Dante</td>\n",
       "      <td>26</td>\n",
       "      <td>New york</td>\n",
       "    </tr>\n",
       "  </tbody>\n",
       "</table>\n",
       "</div>"
      ],
      "text/plain": [
       "          NAME YEARS      HOME\n",
       "1111  Samantha    35   Houston\n",
       "1145      Alex    17   Seattle\n",
       "0096     Dante    26  New york"
      ]
     },
     "execution_count": 189,
     "metadata": {},
     "output_type": "execute_result"
    }
   ],
   "source": [
    "students_df.rename(columns={'AGE': 'YEARS'}, inplace=True)\n",
    "students_df.head()"
   ]
  },
  {
   "cell_type": "markdown",
   "metadata": {},
   "source": [
    "Similarly, there is a tool to remove rows and columns from your DataFrame"
   ]
  },
  {
   "cell_type": "code",
   "execution_count": 190,
   "metadata": {},
   "outputs": [
    {
     "name": "stdout",
     "output_type": "stream",
     "text": [
      "          NAME YEARS      HOME\n",
      "1111  Samantha    35   Houston\n",
      "1145      Alex    17   Seattle\n",
      "0096     Dante    26  New york\n"
     ]
    }
   ],
   "source": [
    "dropped_df = students_df.drop(columns=['YEARS', 'HOME'])\n",
    "print(students_df)\n"
   ]
  },
  {
   "cell_type": "markdown",
   "metadata": {},
   "source": [
    "If you want the file to save over itself, use the option `inplace = True`.\n",
    "\n",
    "Every function has options. Let's read more about `drop` [here](https://pandas.pydata.org/pandas-docs/stable/reference/api/pandas.DataFrame.drop.html)"
   ]
  },
  {
   "cell_type": "code",
   "execution_count": 191,
   "metadata": {},
   "outputs": [
    {
     "data": {
      "text/html": [
       "<div>\n",
       "<style scoped>\n",
       "    .dataframe tbody tr th:only-of-type {\n",
       "        vertical-align: middle;\n",
       "    }\n",
       "\n",
       "    .dataframe tbody tr th {\n",
       "        vertical-align: top;\n",
       "    }\n",
       "\n",
       "    .dataframe thead th {\n",
       "        text-align: right;\n",
       "    }\n",
       "</style>\n",
       "<table border=\"1\" class=\"dataframe\">\n",
       "  <thead>\n",
       "    <tr style=\"text-align: right;\">\n",
       "      <th></th>\n",
       "      <th>NAME</th>\n",
       "      <th>YEARS</th>\n",
       "      <th>HOME</th>\n",
       "    </tr>\n",
       "  </thead>\n",
       "  <tbody>\n",
       "    <tr>\n",
       "      <th>1145</th>\n",
       "      <td>Alex</td>\n",
       "      <td>17</td>\n",
       "      <td>Seattle</td>\n",
       "    </tr>\n",
       "    <tr>\n",
       "      <th>0096</th>\n",
       "      <td>Dante</td>\n",
       "      <td>26</td>\n",
       "      <td>New york</td>\n",
       "    </tr>\n",
       "  </tbody>\n",
       "</table>\n",
       "</div>"
      ],
      "text/plain": [
       "       NAME YEARS      HOME\n",
       "1145   Alex    17   Seattle\n",
       "0096  Dante    26  New york"
      ]
     },
     "execution_count": 191,
     "metadata": {},
     "output_type": "execute_result"
    }
   ],
   "source": [
    "students_df.drop(index=['1111']) #unintuitively, this is a string!"
   ]
  },
  {
   "cell_type": "markdown",
   "metadata": {},
   "source": [
    "Adding columns can be a bit trickier, however."
   ]
  },
  {
   "cell_type": "markdown",
   "metadata": {},
   "source": [
    "#### Getting Started\n",
    "\n",
    "Let's define a function that returns a dataframe for us to work with. Note that this dataframe is created from a `list` of dictionaries, and each `dict` has identical _keys_ representing field names. The _values_ are the data to be stored in each field.\n",
    "\n",
    "This list-of-dictionaries format is a common way to represent _rows of data_ in Python.\n",
    "\n",
    "Pandas is not the only tool that supports it natively: **MongoDB** also represents each row of a dataset as a dictionary. This format is also useful when working with big data in Spark."
   ]
  },
  {
   "cell_type": "code",
   "execution_count": 192,
   "metadata": {},
   "outputs": [],
   "source": [
    "def get_customer_data():\n",
    "    \"\"\"Return a Pandas DataFrame containing imaginary customer data.\"\"\"\n",
    "    customers = [\n",
    "        {'name': 'Harmony', 'state': 'OR'},\n",
    "        {'name': 'Sarah', 'state': 'CA'},\n",
    "        {'name': 'Sharad', 'state': 'WA'},\n",
    "        {'name': 'CJ', 'state': 'NY'},\n",
    "        {'name': 'Jerry', 'state': 'OR'},\n",
    "    ]\n",
    "    return pd.DataFrame(customers)"
   ]
  },
  {
   "cell_type": "code",
   "execution_count": 193,
   "metadata": {},
   "outputs": [
    {
     "data": {
      "text/html": [
       "<div>\n",
       "<style scoped>\n",
       "    .dataframe tbody tr th:only-of-type {\n",
       "        vertical-align: middle;\n",
       "    }\n",
       "\n",
       "    .dataframe tbody tr th {\n",
       "        vertical-align: top;\n",
       "    }\n",
       "\n",
       "    .dataframe thead th {\n",
       "        text-align: right;\n",
       "    }\n",
       "</style>\n",
       "<table border=\"1\" class=\"dataframe\">\n",
       "  <thead>\n",
       "    <tr style=\"text-align: right;\">\n",
       "      <th></th>\n",
       "      <th>name</th>\n",
       "      <th>state</th>\n",
       "    </tr>\n",
       "  </thead>\n",
       "  <tbody>\n",
       "    <tr>\n",
       "      <th>0</th>\n",
       "      <td>Harmony</td>\n",
       "      <td>OR</td>\n",
       "    </tr>\n",
       "    <tr>\n",
       "      <th>1</th>\n",
       "      <td>Sarah</td>\n",
       "      <td>CA</td>\n",
       "    </tr>\n",
       "    <tr>\n",
       "      <th>2</th>\n",
       "      <td>Sharad</td>\n",
       "      <td>WA</td>\n",
       "    </tr>\n",
       "    <tr>\n",
       "      <th>3</th>\n",
       "      <td>CJ</td>\n",
       "      <td>NY</td>\n",
       "    </tr>\n",
       "    <tr>\n",
       "      <th>4</th>\n",
       "      <td>Jerry</td>\n",
       "      <td>OR</td>\n",
       "    </tr>\n",
       "  </tbody>\n",
       "</table>\n",
       "</div>"
      ],
      "text/plain": [
       "      name state\n",
       "0  Harmony    OR\n",
       "1    Sarah    CA\n",
       "2   Sharad    WA\n",
       "3       CJ    NY\n",
       "4    Jerry    OR"
      ]
     },
     "execution_count": 193,
     "metadata": {},
     "output_type": "execute_result"
    }
   ],
   "source": [
    "get_customer_data()"
   ]
  },
  {
   "cell_type": "markdown",
   "metadata": {},
   "source": [
    "#### Get the customer data"
   ]
  },
  {
   "cell_type": "code",
   "execution_count": 194,
   "metadata": {},
   "outputs": [],
   "source": [
    "customer_df = get_customer_data()"
   ]
  },
  {
   "cell_type": "markdown",
   "metadata": {},
   "source": [
    "#### Try to identify all Oregonian customers as hippies:\n"
   ]
  },
  {
   "cell_type": "code",
   "execution_count": 195,
   "metadata": {},
   "outputs": [
    {
     "data": {
      "text/html": [
       "<div>\n",
       "<style scoped>\n",
       "    .dataframe tbody tr th:only-of-type {\n",
       "        vertical-align: middle;\n",
       "    }\n",
       "\n",
       "    .dataframe tbody tr th {\n",
       "        vertical-align: top;\n",
       "    }\n",
       "\n",
       "    .dataframe thead th {\n",
       "        text-align: right;\n",
       "    }\n",
       "</style>\n",
       "<table border=\"1\" class=\"dataframe\">\n",
       "  <thead>\n",
       "    <tr style=\"text-align: right;\">\n",
       "      <th></th>\n",
       "      <th>name</th>\n",
       "      <th>state</th>\n",
       "    </tr>\n",
       "  </thead>\n",
       "  <tbody>\n",
       "    <tr>\n",
       "      <th>0</th>\n",
       "      <td>Harmony</td>\n",
       "      <td>OR</td>\n",
       "    </tr>\n",
       "    <tr>\n",
       "      <th>4</th>\n",
       "      <td>Jerry</td>\n",
       "      <td>OR</td>\n",
       "    </tr>\n",
       "  </tbody>\n",
       "</table>\n",
       "</div>"
      ],
      "text/plain": [
       "      name state\n",
       "0  Harmony    OR\n",
       "4    Jerry    OR"
      ]
     },
     "execution_count": 195,
     "metadata": {},
     "output_type": "execute_result"
    }
   ],
   "source": [
    "customer_df[customer_df['state'] == 'OR']"
   ]
  },
  {
   "cell_type": "code",
   "execution_count": 196,
   "metadata": {},
   "outputs": [
    {
     "name": "stderr",
     "output_type": "stream",
     "text": [
      "/usr/local/lib/python3.7/site-packages/ipykernel_launcher.py:2: SettingWithCopyWarning: \n",
      "A value is trying to be set on a copy of a slice from a DataFrame.\n",
      "Try using .loc[row_indexer,col_indexer] = value instead\n",
      "\n",
      "See the caveats in the documentation: http://pandas.pydata.org/pandas-docs/stable/indexing.html#indexing-view-versus-copy\n"
     ]
    },
    {
     "data": {
      "text/html": [
       "<div>\n",
       "<style scoped>\n",
       "    .dataframe tbody tr th:only-of-type {\n",
       "        vertical-align: middle;\n",
       "    }\n",
       "\n",
       "    .dataframe tbody tr th {\n",
       "        vertical-align: top;\n",
       "    }\n",
       "\n",
       "    .dataframe thead th {\n",
       "        text-align: right;\n",
       "    }\n",
       "</style>\n",
       "<table border=\"1\" class=\"dataframe\">\n",
       "  <thead>\n",
       "    <tr style=\"text-align: right;\">\n",
       "      <th></th>\n",
       "      <th>name</th>\n",
       "      <th>state</th>\n",
       "      <th>is_hippy</th>\n",
       "    </tr>\n",
       "  </thead>\n",
       "  <tbody>\n",
       "    <tr>\n",
       "      <th>0</th>\n",
       "      <td>Harmony</td>\n",
       "      <td>OR</td>\n",
       "      <td>1</td>\n",
       "    </tr>\n",
       "    <tr>\n",
       "      <th>4</th>\n",
       "      <td>Jerry</td>\n",
       "      <td>OR</td>\n",
       "      <td>1</td>\n",
       "    </tr>\n",
       "  </tbody>\n",
       "</table>\n",
       "</div>"
      ],
      "text/plain": [
       "      name state  is_hippy\n",
       "0  Harmony    OR         1\n",
       "4    Jerry    OR         1"
      ]
     },
     "execution_count": 196,
     "metadata": {},
     "output_type": "execute_result"
    }
   ],
   "source": [
    "oregon_customer_df = customer_df[customer_df['state'] == 'OR']\n",
    "oregon_customer_df['is_hippy'] = 1\n",
    "oregon_customer_df"
   ]
  },
  {
   "cell_type": "markdown",
   "metadata": {},
   "source": [
    "#### Try to identify all non-Oregonian customers as non-hippies:\n"
   ]
  },
  {
   "cell_type": "code",
   "execution_count": 197,
   "metadata": {},
   "outputs": [
    {
     "name": "stderr",
     "output_type": "stream",
     "text": [
      "/usr/local/lib/python3.7/site-packages/ipykernel_launcher.py:2: SettingWithCopyWarning: \n",
      "A value is trying to be set on a copy of a slice from a DataFrame.\n",
      "Try using .loc[row_indexer,col_indexer] = value instead\n",
      "\n",
      "See the caveats in the documentation: http://pandas.pydata.org/pandas-docs/stable/indexing.html#indexing-view-versus-copy\n"
     ]
    },
    {
     "data": {
      "text/html": [
       "<div>\n",
       "<style scoped>\n",
       "    .dataframe tbody tr th:only-of-type {\n",
       "        vertical-align: middle;\n",
       "    }\n",
       "\n",
       "    .dataframe tbody tr th {\n",
       "        vertical-align: top;\n",
       "    }\n",
       "\n",
       "    .dataframe thead th {\n",
       "        text-align: right;\n",
       "    }\n",
       "</style>\n",
       "<table border=\"1\" class=\"dataframe\">\n",
       "  <thead>\n",
       "    <tr style=\"text-align: right;\">\n",
       "      <th></th>\n",
       "      <th>name</th>\n",
       "      <th>state</th>\n",
       "      <th>is_hippy</th>\n",
       "    </tr>\n",
       "  </thead>\n",
       "  <tbody>\n",
       "    <tr>\n",
       "      <th>1</th>\n",
       "      <td>Sarah</td>\n",
       "      <td>CA</td>\n",
       "      <td>0</td>\n",
       "    </tr>\n",
       "    <tr>\n",
       "      <th>2</th>\n",
       "      <td>Sharad</td>\n",
       "      <td>WA</td>\n",
       "      <td>0</td>\n",
       "    </tr>\n",
       "    <tr>\n",
       "      <th>3</th>\n",
       "      <td>CJ</td>\n",
       "      <td>NY</td>\n",
       "      <td>0</td>\n",
       "    </tr>\n",
       "  </tbody>\n",
       "</table>\n",
       "</div>"
      ],
      "text/plain": [
       "     name state  is_hippy\n",
       "1   Sarah    CA         0\n",
       "2  Sharad    WA         0\n",
       "3      CJ    NY         0"
      ]
     },
     "execution_count": 197,
     "metadata": {},
     "output_type": "execute_result"
    }
   ],
   "source": [
    "non_oregon_customer_df = customer_df[customer_df['state'] != 'OR']\n",
    "non_oregon_customer_df['is_hippy'] = 0\n",
    "non_oregon_customer_df"
   ]
  },
  {
   "cell_type": "markdown",
   "metadata": {},
   "source": [
    "#### We can do the same thing on a single line (and get the same warning):"
   ]
  },
  {
   "cell_type": "code",
   "execution_count": 198,
   "metadata": {},
   "outputs": [
    {
     "name": "stderr",
     "output_type": "stream",
     "text": [
      "/usr/local/lib/python3.7/site-packages/ipykernel_launcher.py:1: SettingWithCopyWarning: \n",
      "A value is trying to be set on a copy of a slice from a DataFrame.\n",
      "Try using .loc[row_indexer,col_indexer] = value instead\n",
      "\n",
      "See the caveats in the documentation: http://pandas.pydata.org/pandas-docs/stable/indexing.html#indexing-view-versus-copy\n"
     ]
    }
   ],
   "source": [
    "customer_df[customer_df['state'] == 'OR']['is_hippy'] = 1"
   ]
  },
  {
   "cell_type": "markdown",
   "metadata": {},
   "source": [
    "#### See the results! (What's wrong?)"
   ]
  },
  {
   "cell_type": "code",
   "execution_count": 199,
   "metadata": {},
   "outputs": [
    {
     "data": {
      "text/html": [
       "<div>\n",
       "<style scoped>\n",
       "    .dataframe tbody tr th:only-of-type {\n",
       "        vertical-align: middle;\n",
       "    }\n",
       "\n",
       "    .dataframe tbody tr th {\n",
       "        vertical-align: top;\n",
       "    }\n",
       "\n",
       "    .dataframe thead th {\n",
       "        text-align: right;\n",
       "    }\n",
       "</style>\n",
       "<table border=\"1\" class=\"dataframe\">\n",
       "  <thead>\n",
       "    <tr style=\"text-align: right;\">\n",
       "      <th></th>\n",
       "      <th>name</th>\n",
       "      <th>state</th>\n",
       "    </tr>\n",
       "  </thead>\n",
       "  <tbody>\n",
       "    <tr>\n",
       "      <th>0</th>\n",
       "      <td>Harmony</td>\n",
       "      <td>OR</td>\n",
       "    </tr>\n",
       "    <tr>\n",
       "      <th>1</th>\n",
       "      <td>Sarah</td>\n",
       "      <td>CA</td>\n",
       "    </tr>\n",
       "    <tr>\n",
       "      <th>2</th>\n",
       "      <td>Sharad</td>\n",
       "      <td>WA</td>\n",
       "    </tr>\n",
       "    <tr>\n",
       "      <th>3</th>\n",
       "      <td>CJ</td>\n",
       "      <td>NY</td>\n",
       "    </tr>\n",
       "    <tr>\n",
       "      <th>4</th>\n",
       "      <td>Jerry</td>\n",
       "      <td>OR</td>\n",
       "    </tr>\n",
       "  </tbody>\n",
       "</table>\n",
       "</div>"
      ],
      "text/plain": [
       "      name state\n",
       "0  Harmony    OR\n",
       "1    Sarah    CA\n",
       "2   Sharad    WA\n",
       "3       CJ    NY\n",
       "4    Jerry    OR"
      ]
     },
     "execution_count": 199,
     "metadata": {},
     "output_type": "execute_result"
    }
   ],
   "source": [
    "customer_df"
   ]
  },
  {
   "cell_type": "markdown",
   "metadata": {},
   "source": [
    "#### What went wrong?\n",
    "\n",
    "1. First, we _sliced_ the original dataframe to include just Oregon customers.\n",
    "2. The _slice_ `oregon_customer_df` could be interpreted as a _new dataframe_ containing the selected rows in the original `customer_df`, or as a _pointer to_ the rows in the original dataframe. Pandas doesn't know which one we want.\n",
    "3. When we try to _modify_ or _set_ values in the slice, Pandas doesn't know what to do.\n",
    "\n",
    "#### One way to avoid the error is to explicitly make a copy of the slice with `df.copy()`:"
   ]
  },
  {
   "cell_type": "code",
   "execution_count": 200,
   "metadata": {},
   "outputs": [
    {
     "data": {
      "text/html": [
       "<div>\n",
       "<style scoped>\n",
       "    .dataframe tbody tr th:only-of-type {\n",
       "        vertical-align: middle;\n",
       "    }\n",
       "\n",
       "    .dataframe tbody tr th {\n",
       "        vertical-align: top;\n",
       "    }\n",
       "\n",
       "    .dataframe thead th {\n",
       "        text-align: right;\n",
       "    }\n",
       "</style>\n",
       "<table border=\"1\" class=\"dataframe\">\n",
       "  <thead>\n",
       "    <tr style=\"text-align: right;\">\n",
       "      <th></th>\n",
       "      <th>name</th>\n",
       "      <th>state</th>\n",
       "      <th>is_hippy</th>\n",
       "    </tr>\n",
       "  </thead>\n",
       "  <tbody>\n",
       "    <tr>\n",
       "      <th>0</th>\n",
       "      <td>Harmony</td>\n",
       "      <td>OR</td>\n",
       "      <td>1</td>\n",
       "    </tr>\n",
       "    <tr>\n",
       "      <th>4</th>\n",
       "      <td>Jerry</td>\n",
       "      <td>OR</td>\n",
       "      <td>1</td>\n",
       "    </tr>\n",
       "  </tbody>\n",
       "</table>\n",
       "</div>"
      ],
      "text/plain": [
       "      name state  is_hippy\n",
       "0  Harmony    OR         1\n",
       "4    Jerry    OR         1"
      ]
     },
     "execution_count": 200,
     "metadata": {},
     "output_type": "execute_result"
    }
   ],
   "source": [
    "oregon_customer_df = customer_df[customer_df['state'] == 'OR'].copy()\n",
    "oregon_customer_df['is_hippy'] = 1\n",
    "oregon_customer_df"
   ]
  },
  {
   "cell_type": "markdown",
   "metadata": {},
   "source": [
    "#### What if we really want to modify the original dataframe?\n",
    "#### We can use `df.loc[columns, rows]` to explicity modify the original dataframe."
   ]
  },
  {
   "cell_type": "code",
   "execution_count": 201,
   "metadata": {},
   "outputs": [],
   "source": [
    "customer_df.loc[customer_df['state'] == 'OR', 'is_hippy'] = int(1)\n",
    "customer_df.loc[customer_df['state'] != 'OR', 'is_hippy'] = int(0)"
   ]
  },
  {
   "cell_type": "markdown",
   "metadata": {},
   "source": [
    "#### See the awesome results!\n"
   ]
  },
  {
   "cell_type": "code",
   "execution_count": 202,
   "metadata": {},
   "outputs": [
    {
     "data": {
      "text/html": [
       "<div>\n",
       "<style scoped>\n",
       "    .dataframe tbody tr th:only-of-type {\n",
       "        vertical-align: middle;\n",
       "    }\n",
       "\n",
       "    .dataframe tbody tr th {\n",
       "        vertical-align: top;\n",
       "    }\n",
       "\n",
       "    .dataframe thead th {\n",
       "        text-align: right;\n",
       "    }\n",
       "</style>\n",
       "<table border=\"1\" class=\"dataframe\">\n",
       "  <thead>\n",
       "    <tr style=\"text-align: right;\">\n",
       "      <th></th>\n",
       "      <th>name</th>\n",
       "      <th>state</th>\n",
       "      <th>is_hippy</th>\n",
       "    </tr>\n",
       "  </thead>\n",
       "  <tbody>\n",
       "    <tr>\n",
       "      <th>0</th>\n",
       "      <td>Harmony</td>\n",
       "      <td>OR</td>\n",
       "      <td>1.0</td>\n",
       "    </tr>\n",
       "    <tr>\n",
       "      <th>1</th>\n",
       "      <td>Sarah</td>\n",
       "      <td>CA</td>\n",
       "      <td>0.0</td>\n",
       "    </tr>\n",
       "    <tr>\n",
       "      <th>2</th>\n",
       "      <td>Sharad</td>\n",
       "      <td>WA</td>\n",
       "      <td>0.0</td>\n",
       "    </tr>\n",
       "    <tr>\n",
       "      <th>3</th>\n",
       "      <td>CJ</td>\n",
       "      <td>NY</td>\n",
       "      <td>0.0</td>\n",
       "    </tr>\n",
       "    <tr>\n",
       "      <th>4</th>\n",
       "      <td>Jerry</td>\n",
       "      <td>OR</td>\n",
       "      <td>1.0</td>\n",
       "    </tr>\n",
       "  </tbody>\n",
       "</table>\n",
       "</div>"
      ],
      "text/plain": [
       "      name state  is_hippy\n",
       "0  Harmony    OR       1.0\n",
       "1    Sarah    CA       0.0\n",
       "2   Sharad    WA       0.0\n",
       "3       CJ    NY       0.0\n",
       "4    Jerry    OR       1.0"
      ]
     },
     "execution_count": 202,
     "metadata": {},
     "output_type": "execute_result"
    }
   ],
   "source": [
    "customer_df"
   ]
  },
  {
   "cell_type": "markdown",
   "metadata": {},
   "source": [
    "### 5. Filtering data using Pandas\n",
    "\n",
    "There are several ways to grab particular data from a DataFrame.\n",
    "\n",
    "We saw the use of loc in the previous example. iloc and loc can be used in a few different ways to access data from a DataFrame. "
   ]
  },
  {
   "cell_type": "code",
   "execution_count": 203,
   "metadata": {},
   "outputs": [
    {
     "data": {
      "text/plain": [
       "name        Sharad\n",
       "state           WA\n",
       "is_hippy         0\n",
       "Name: 2, dtype: object"
      ]
     },
     "execution_count": 203,
     "metadata": {},
     "output_type": "execute_result"
    }
   ],
   "source": [
    "customer_df.iloc[2,:] #returns the first row"
   ]
  },
  {
   "cell_type": "code",
   "execution_count": 204,
   "metadata": {},
   "outputs": [
    {
     "data": {
      "text/html": [
       "<div>\n",
       "<style scoped>\n",
       "    .dataframe tbody tr th:only-of-type {\n",
       "        vertical-align: middle;\n",
       "    }\n",
       "\n",
       "    .dataframe tbody tr th {\n",
       "        vertical-align: top;\n",
       "    }\n",
       "\n",
       "    .dataframe thead th {\n",
       "        text-align: right;\n",
       "    }\n",
       "</style>\n",
       "<table border=\"1\" class=\"dataframe\">\n",
       "  <thead>\n",
       "    <tr style=\"text-align: right;\">\n",
       "      <th></th>\n",
       "      <th>name</th>\n",
       "      <th>state</th>\n",
       "      <th>is_hippy</th>\n",
       "    </tr>\n",
       "  </thead>\n",
       "  <tbody>\n",
       "    <tr>\n",
       "      <th>0</th>\n",
       "      <td>Harmony</td>\n",
       "      <td>OR</td>\n",
       "      <td>1.0</td>\n",
       "    </tr>\n",
       "    <tr>\n",
       "      <th>1</th>\n",
       "      <td>Sarah</td>\n",
       "      <td>CA</td>\n",
       "      <td>0.0</td>\n",
       "    </tr>\n",
       "    <tr>\n",
       "      <th>2</th>\n",
       "      <td>Sharad</td>\n",
       "      <td>WA</td>\n",
       "      <td>0.0</td>\n",
       "    </tr>\n",
       "    <tr>\n",
       "      <th>3</th>\n",
       "      <td>CJ</td>\n",
       "      <td>NY</td>\n",
       "      <td>0.0</td>\n",
       "    </tr>\n",
       "    <tr>\n",
       "      <th>4</th>\n",
       "      <td>Jerry</td>\n",
       "      <td>OR</td>\n",
       "      <td>1.0</td>\n",
       "    </tr>\n",
       "  </tbody>\n",
       "</table>\n",
       "</div>"
      ],
      "text/plain": [
       "      name state  is_hippy\n",
       "0  Harmony    OR       1.0\n",
       "1    Sarah    CA       0.0\n",
       "2   Sharad    WA       0.0\n",
       "3       CJ    NY       0.0\n",
       "4    Jerry    OR       1.0"
      ]
     },
     "execution_count": 204,
     "metadata": {},
     "output_type": "execute_result"
    }
   ],
   "source": [
    "customer_df.iloc[:,:] #returns the first column"
   ]
  },
  {
   "cell_type": "code",
   "execution_count": 205,
   "metadata": {},
   "outputs": [
    {
     "data": {
      "text/html": [
       "<div>\n",
       "<style scoped>\n",
       "    .dataframe tbody tr th:only-of-type {\n",
       "        vertical-align: middle;\n",
       "    }\n",
       "\n",
       "    .dataframe tbody tr th {\n",
       "        vertical-align: top;\n",
       "    }\n",
       "\n",
       "    .dataframe thead th {\n",
       "        text-align: right;\n",
       "    }\n",
       "</style>\n",
       "<table border=\"1\" class=\"dataframe\">\n",
       "  <thead>\n",
       "    <tr style=\"text-align: right;\">\n",
       "      <th></th>\n",
       "      <th>name</th>\n",
       "      <th>state</th>\n",
       "      <th>is_hippy</th>\n",
       "    </tr>\n",
       "  </thead>\n",
       "  <tbody>\n",
       "    <tr>\n",
       "      <th>0</th>\n",
       "      <td>Harmony</td>\n",
       "      <td>OR</td>\n",
       "      <td>1.0</td>\n",
       "    </tr>\n",
       "    <tr>\n",
       "      <th>1</th>\n",
       "      <td>Sarah</td>\n",
       "      <td>CA</td>\n",
       "      <td>0.0</td>\n",
       "    </tr>\n",
       "  </tbody>\n",
       "</table>\n",
       "</div>"
      ],
      "text/plain": [
       "      name state  is_hippy\n",
       "0  Harmony    OR       1.0\n",
       "1    Sarah    CA       0.0"
      ]
     },
     "execution_count": 205,
     "metadata": {},
     "output_type": "execute_result"
    }
   ],
   "source": [
    "customer_df.iloc[0:2,:] #returns first two rows"
   ]
  },
  {
   "cell_type": "code",
   "execution_count": 206,
   "metadata": {},
   "outputs": [
    {
     "data": {
      "text/html": [
       "<div>\n",
       "<style scoped>\n",
       "    .dataframe tbody tr th:only-of-type {\n",
       "        vertical-align: middle;\n",
       "    }\n",
       "\n",
       "    .dataframe tbody tr th {\n",
       "        vertical-align: top;\n",
       "    }\n",
       "\n",
       "    .dataframe thead th {\n",
       "        text-align: right;\n",
       "    }\n",
       "</style>\n",
       "<table border=\"1\" class=\"dataframe\">\n",
       "  <thead>\n",
       "    <tr style=\"text-align: right;\">\n",
       "      <th></th>\n",
       "      <th>is_hippy</th>\n",
       "    </tr>\n",
       "  </thead>\n",
       "  <tbody>\n",
       "    <tr>\n",
       "      <th>0</th>\n",
       "      <td>1.0</td>\n",
       "    </tr>\n",
       "    <tr>\n",
       "      <th>1</th>\n",
       "      <td>0.0</td>\n",
       "    </tr>\n",
       "    <tr>\n",
       "      <th>2</th>\n",
       "      <td>0.0</td>\n",
       "    </tr>\n",
       "    <tr>\n",
       "      <th>3</th>\n",
       "      <td>0.0</td>\n",
       "    </tr>\n",
       "    <tr>\n",
       "      <th>4</th>\n",
       "      <td>1.0</td>\n",
       "    </tr>\n",
       "  </tbody>\n",
       "</table>\n",
       "</div>"
      ],
      "text/plain": [
       "   is_hippy\n",
       "0       1.0\n",
       "1       0.0\n",
       "2       0.0\n",
       "3       0.0\n",
       "4       1.0"
      ]
     },
     "execution_count": 206,
     "metadata": {},
     "output_type": "execute_result"
    }
   ],
   "source": [
    "customer_df.iloc[:,2:3] #returns the first two columns"
   ]
  },
  {
   "cell_type": "markdown",
   "metadata": {},
   "source": [
    "How would we use indexing to return the last item in the last row?"
   ]
  },
  {
   "cell_type": "code",
   "execution_count": 207,
   "metadata": {},
   "outputs": [
    {
     "data": {
      "text/plain": [
       "1.0"
      ]
     },
     "execution_count": 207,
     "metadata": {},
     "output_type": "execute_result"
    }
   ],
   "source": [
    "#return the last item in the last row using indexing\n",
    "\n",
    "customer_df.iloc[-1,-1]"
   ]
  },
  {
   "cell_type": "markdown",
   "metadata": {},
   "source": [
    "Use loc to return rows and columns based on labels. Let's look at the students_df DataFrame again."
   ]
  },
  {
   "cell_type": "code",
   "execution_count": 208,
   "metadata": {},
   "outputs": [
    {
     "data": {
      "text/html": [
       "<div>\n",
       "<style scoped>\n",
       "    .dataframe tbody tr th:only-of-type {\n",
       "        vertical-align: middle;\n",
       "    }\n",
       "\n",
       "    .dataframe tbody tr th {\n",
       "        vertical-align: top;\n",
       "    }\n",
       "\n",
       "    .dataframe thead th {\n",
       "        text-align: right;\n",
       "    }\n",
       "</style>\n",
       "<table border=\"1\" class=\"dataframe\">\n",
       "  <thead>\n",
       "    <tr style=\"text-align: right;\">\n",
       "      <th></th>\n",
       "      <th>NAME</th>\n",
       "      <th>YEARS</th>\n",
       "      <th>HOME</th>\n",
       "    </tr>\n",
       "  </thead>\n",
       "  <tbody>\n",
       "    <tr>\n",
       "      <th>1111</th>\n",
       "      <td>Samantha</td>\n",
       "      <td>35</td>\n",
       "      <td>Houston</td>\n",
       "    </tr>\n",
       "    <tr>\n",
       "      <th>1145</th>\n",
       "      <td>Alex</td>\n",
       "      <td>17</td>\n",
       "      <td>Seattle</td>\n",
       "    </tr>\n",
       "    <tr>\n",
       "      <th>0096</th>\n",
       "      <td>Dante</td>\n",
       "      <td>26</td>\n",
       "      <td>New york</td>\n",
       "    </tr>\n",
       "  </tbody>\n",
       "</table>\n",
       "</div>"
      ],
      "text/plain": [
       "          NAME YEARS      HOME\n",
       "1111  Samantha    35   Houston\n",
       "1145      Alex    17   Seattle\n",
       "0096     Dante    26  New york"
      ]
     },
     "execution_count": 208,
     "metadata": {},
     "output_type": "execute_result"
    }
   ],
   "source": [
    "students_df.head()"
   ]
  },
  {
   "cell_type": "code",
   "execution_count": 209,
   "metadata": {},
   "outputs": [
    {
     "data": {
      "text/plain": [
       "NAME     Samantha\n",
       "YEARS          35\n",
       "HOME      Houston\n",
       "Name: 1111, dtype: object"
      ]
     },
     "execution_count": 209,
     "metadata": {},
     "output_type": "execute_result"
    }
   ],
   "source": [
    "students_df.loc['1111'] #returns the student information associated with the ID number 1111, which is the index"
   ]
  },
  {
   "cell_type": "code",
   "execution_count": 211,
   "metadata": {},
   "outputs": [
    {
     "data": {
      "text/plain": [
       "1111    35\n",
       "1145    17\n",
       "0096    26\n",
       "Name: YEARS, dtype: object"
      ]
     },
     "execution_count": 211,
     "metadata": {},
     "output_type": "execute_result"
    }
   ],
   "source": [
    "students_df.loc[:,'YEARS'] #returns the column labeled 'YEARS'"
   ]
  },
  {
   "cell_type": "code",
   "execution_count": 212,
   "metadata": {},
   "outputs": [
    {
     "data": {
      "text/plain": [
       "NAME     Samantha\n",
       "YEARS          35\n",
       "HOME      Houston\n",
       "Name: 1111, dtype: object"
      ]
     },
     "execution_count": 212,
     "metadata": {},
     "output_type": "execute_result"
    }
   ],
   "source": [
    "students_df.loc['1111','NAME':'HOME'] #returns information for the row labeled '1111' for columns from 'NAME' to 'HOME'"
   ]
  },
  {
   "cell_type": "markdown",
   "metadata": {},
   "source": [
    "How could we return the first and last rows if loc accepts a list of labels?"
   ]
  },
  {
   "cell_type": "code",
   "execution_count": 213,
   "metadata": {},
   "outputs": [
    {
     "data": {
      "text/html": [
       "<div>\n",
       "<style scoped>\n",
       "    .dataframe tbody tr th:only-of-type {\n",
       "        vertical-align: middle;\n",
       "    }\n",
       "\n",
       "    .dataframe tbody tr th {\n",
       "        vertical-align: top;\n",
       "    }\n",
       "\n",
       "    .dataframe thead th {\n",
       "        text-align: right;\n",
       "    }\n",
       "</style>\n",
       "<table border=\"1\" class=\"dataframe\">\n",
       "  <thead>\n",
       "    <tr style=\"text-align: right;\">\n",
       "      <th></th>\n",
       "      <th>NAME</th>\n",
       "      <th>YEARS</th>\n",
       "      <th>HOME</th>\n",
       "    </tr>\n",
       "  </thead>\n",
       "  <tbody>\n",
       "    <tr>\n",
       "      <th>1111</th>\n",
       "      <td>Samantha</td>\n",
       "      <td>35</td>\n",
       "      <td>Houston</td>\n",
       "    </tr>\n",
       "    <tr>\n",
       "      <th>0096</th>\n",
       "      <td>Dante</td>\n",
       "      <td>26</td>\n",
       "      <td>New york</td>\n",
       "    </tr>\n",
       "  </tbody>\n",
       "</table>\n",
       "</div>"
      ],
      "text/plain": [
       "          NAME YEARS      HOME\n",
       "1111  Samantha    35   Houston\n",
       "0096     Dante    26  New york"
      ]
     },
     "execution_count": 213,
     "metadata": {},
     "output_type": "execute_result"
    }
   ],
   "source": [
    "#return the first and last rows using one loc command\n",
    "\n",
    "students_df.loc[['1111','0096'],:]"
   ]
  },
  {
   "cell_type": "markdown",
   "metadata": {},
   "source": [
    "We can use loc to complete more complicated filtering of our data using boolean indexing."
   ]
  },
  {
   "cell_type": "code",
   "execution_count": 214,
   "metadata": {},
   "outputs": [
    {
     "data": {
      "text/html": [
       "<div>\n",
       "<style scoped>\n",
       "    .dataframe tbody tr th:only-of-type {\n",
       "        vertical-align: middle;\n",
       "    }\n",
       "\n",
       "    .dataframe tbody tr th {\n",
       "        vertical-align: top;\n",
       "    }\n",
       "\n",
       "    .dataframe thead th {\n",
       "        text-align: right;\n",
       "    }\n",
       "</style>\n",
       "<table border=\"1\" class=\"dataframe\">\n",
       "  <thead>\n",
       "    <tr style=\"text-align: right;\">\n",
       "      <th></th>\n",
       "      <th>NAME</th>\n",
       "      <th>YEARS</th>\n",
       "      <th>HOME</th>\n",
       "    </tr>\n",
       "  </thead>\n",
       "  <tbody>\n",
       "    <tr>\n",
       "      <th>1111</th>\n",
       "      <td>Samantha</td>\n",
       "      <td>35</td>\n",
       "      <td>Houston</td>\n",
       "    </tr>\n",
       "  </tbody>\n",
       "</table>\n",
       "</div>"
      ],
      "text/plain": [
       "          NAME YEARS     HOME\n",
       "1111  Samantha    35  Houston"
      ]
     },
     "execution_count": 214,
     "metadata": {},
     "output_type": "execute_result"
    }
   ],
   "source": [
    "students_df.loc[students_df['NAME']=='Samantha'] #returns only rows where the name of the student is Samantha"
   ]
  },
  {
   "cell_type": "markdown",
   "metadata": {},
   "source": [
    "We can also find out which customers in the customer_df DataFrame are not from Oregon. However, I only want to know their names. How would I return this?"
   ]
  },
  {
   "cell_type": "code",
   "execution_count": 215,
   "metadata": {},
   "outputs": [
    {
     "data": {
      "text/html": [
       "<div>\n",
       "<style scoped>\n",
       "    .dataframe tbody tr th:only-of-type {\n",
       "        vertical-align: middle;\n",
       "    }\n",
       "\n",
       "    .dataframe tbody tr th {\n",
       "        vertical-align: top;\n",
       "    }\n",
       "\n",
       "    .dataframe thead th {\n",
       "        text-align: right;\n",
       "    }\n",
       "</style>\n",
       "<table border=\"1\" class=\"dataframe\">\n",
       "  <thead>\n",
       "    <tr style=\"text-align: right;\">\n",
       "      <th></th>\n",
       "      <th>name</th>\n",
       "      <th>state</th>\n",
       "      <th>is_hippy</th>\n",
       "    </tr>\n",
       "  </thead>\n",
       "  <tbody>\n",
       "    <tr>\n",
       "      <th>0</th>\n",
       "      <td>Harmony</td>\n",
       "      <td>OR</td>\n",
       "      <td>1.0</td>\n",
       "    </tr>\n",
       "    <tr>\n",
       "      <th>1</th>\n",
       "      <td>Sarah</td>\n",
       "      <td>CA</td>\n",
       "      <td>0.0</td>\n",
       "    </tr>\n",
       "    <tr>\n",
       "      <th>2</th>\n",
       "      <td>Sharad</td>\n",
       "      <td>WA</td>\n",
       "      <td>0.0</td>\n",
       "    </tr>\n",
       "    <tr>\n",
       "      <th>3</th>\n",
       "      <td>CJ</td>\n",
       "      <td>NY</td>\n",
       "      <td>0.0</td>\n",
       "    </tr>\n",
       "    <tr>\n",
       "      <th>4</th>\n",
       "      <td>Jerry</td>\n",
       "      <td>OR</td>\n",
       "      <td>1.0</td>\n",
       "    </tr>\n",
       "  </tbody>\n",
       "</table>\n",
       "</div>"
      ],
      "text/plain": [
       "      name state  is_hippy\n",
       "0  Harmony    OR       1.0\n",
       "1    Sarah    CA       0.0\n",
       "2   Sharad    WA       0.0\n",
       "3       CJ    NY       0.0\n",
       "4    Jerry    OR       1.0"
      ]
     },
     "execution_count": 215,
     "metadata": {},
     "output_type": "execute_result"
    }
   ],
   "source": [
    "customer_df.head()"
   ]
  },
  {
   "cell_type": "code",
   "execution_count": 220,
   "metadata": {},
   "outputs": [
    {
     "data": {
      "text/plain": [
       "1     Sarah\n",
       "2    Sharad\n",
       "3        CJ\n",
       "Name: name, dtype: object"
      ]
     },
     "execution_count": 220,
     "metadata": {},
     "output_type": "execute_result"
    }
   ],
   "source": [
    "#return the names of customers who are not from Oregon\n",
    "customer_df.loc[customer_df['state'] != 'OR', 'name']\n"
   ]
  },
  {
   "cell_type": "markdown",
   "metadata": {},
   "source": [
    "Let's select only a single column from a DataFrame. This will create a series, which allows for straightforwards, simple selection of the data it holds. "
   ]
  },
  {
   "cell_type": "code",
   "execution_count": 221,
   "metadata": {},
   "outputs": [
    {
     "data": {
      "text/plain": [
       "pandas.core.series.Series"
      ]
     },
     "execution_count": 221,
     "metadata": {},
     "output_type": "execute_result"
    }
   ],
   "source": [
    "states=customer_df.loc[:,'state'] #returns a series!!\n",
    "type(states)"
   ]
  },
  {
   "cell_type": "code",
   "execution_count": 222,
   "metadata": {},
   "outputs": [
    {
     "data": {
      "text/plain": [
       "0    OR\n",
       "1    CA\n",
       "2    WA\n",
       "Name: state, dtype: object"
      ]
     },
     "execution_count": 222,
     "metadata": {},
     "output_type": "execute_result"
    }
   ],
   "source": [
    "states[0:3] #returns the first 3 items"
   ]
  },
  {
   "cell_type": "code",
   "execution_count": 223,
   "metadata": {},
   "outputs": [
    {
     "data": {
      "text/plain": [
       "0    OR\n",
       "4    OR\n",
       "Name: state, dtype: object"
      ]
     },
     "execution_count": 223,
     "metadata": {},
     "output_type": "execute_result"
    }
   ],
   "source": [
    "states[states=='OR'] #returns 'OR' data and index"
   ]
  },
  {
   "cell_type": "markdown",
   "metadata": {},
   "source": [
    "Now that we know how to select specific data, we can manipulate those cells. For example, we need to update our customer data because all of our customers in Oregon have moved to New Jersey."
   ]
  },
  {
   "cell_type": "code",
   "execution_count": 224,
   "metadata": {},
   "outputs": [
    {
     "data": {
      "text/html": [
       "<div>\n",
       "<style scoped>\n",
       "    .dataframe tbody tr th:only-of-type {\n",
       "        vertical-align: middle;\n",
       "    }\n",
       "\n",
       "    .dataframe tbody tr th {\n",
       "        vertical-align: top;\n",
       "    }\n",
       "\n",
       "    .dataframe thead th {\n",
       "        text-align: right;\n",
       "    }\n",
       "</style>\n",
       "<table border=\"1\" class=\"dataframe\">\n",
       "  <thead>\n",
       "    <tr style=\"text-align: right;\">\n",
       "      <th></th>\n",
       "      <th>name</th>\n",
       "      <th>state</th>\n",
       "      <th>is_hippy</th>\n",
       "    </tr>\n",
       "  </thead>\n",
       "  <tbody>\n",
       "    <tr>\n",
       "      <th>0</th>\n",
       "      <td>Harmony</td>\n",
       "      <td>NJ</td>\n",
       "      <td>1.0</td>\n",
       "    </tr>\n",
       "    <tr>\n",
       "      <th>1</th>\n",
       "      <td>Sarah</td>\n",
       "      <td>CA</td>\n",
       "      <td>0.0</td>\n",
       "    </tr>\n",
       "    <tr>\n",
       "      <th>2</th>\n",
       "      <td>Sharad</td>\n",
       "      <td>WA</td>\n",
       "      <td>0.0</td>\n",
       "    </tr>\n",
       "    <tr>\n",
       "      <th>3</th>\n",
       "      <td>CJ</td>\n",
       "      <td>NY</td>\n",
       "      <td>0.0</td>\n",
       "    </tr>\n",
       "    <tr>\n",
       "      <th>4</th>\n",
       "      <td>Jerry</td>\n",
       "      <td>NJ</td>\n",
       "      <td>1.0</td>\n",
       "    </tr>\n",
       "  </tbody>\n",
       "</table>\n",
       "</div>"
      ],
      "text/plain": [
       "      name state  is_hippy\n",
       "0  Harmony    NJ       1.0\n",
       "1    Sarah    CA       0.0\n",
       "2   Sharad    WA       0.0\n",
       "3       CJ    NY       0.0\n",
       "4    Jerry    NJ       1.0"
      ]
     },
     "execution_count": 224,
     "metadata": {},
     "output_type": "execute_result"
    }
   ],
   "source": [
    "customer_df.loc[customer_df[\"state\"]=='OR', \"state\"] = 'NJ'\n",
    "\n",
    "customer_df"
   ]
  },
  {
   "cell_type": "markdown",
   "metadata": {},
   "source": [
    "Or maybe we got a customer's name wrong and need to change that. Perhaps CJ is actually named TJ. How would we do that?"
   ]
  },
  {
   "cell_type": "code",
   "execution_count": 227,
   "metadata": {},
   "outputs": [
    {
     "data": {
      "text/html": [
       "<div>\n",
       "<style scoped>\n",
       "    .dataframe tbody tr th:only-of-type {\n",
       "        vertical-align: middle;\n",
       "    }\n",
       "\n",
       "    .dataframe tbody tr th {\n",
       "        vertical-align: top;\n",
       "    }\n",
       "\n",
       "    .dataframe thead th {\n",
       "        text-align: right;\n",
       "    }\n",
       "</style>\n",
       "<table border=\"1\" class=\"dataframe\">\n",
       "  <thead>\n",
       "    <tr style=\"text-align: right;\">\n",
       "      <th></th>\n",
       "      <th>name</th>\n",
       "      <th>state</th>\n",
       "      <th>is_hippy</th>\n",
       "    </tr>\n",
       "  </thead>\n",
       "  <tbody>\n",
       "    <tr>\n",
       "      <th>0</th>\n",
       "      <td>Harmony</td>\n",
       "      <td>NJ</td>\n",
       "      <td>1.0</td>\n",
       "    </tr>\n",
       "    <tr>\n",
       "      <th>1</th>\n",
       "      <td>Sarah</td>\n",
       "      <td>CA</td>\n",
       "      <td>0.0</td>\n",
       "    </tr>\n",
       "    <tr>\n",
       "      <th>2</th>\n",
       "      <td>Sharad</td>\n",
       "      <td>WA</td>\n",
       "      <td>0.0</td>\n",
       "    </tr>\n",
       "    <tr>\n",
       "      <th>3</th>\n",
       "      <td>TJ</td>\n",
       "      <td>NY</td>\n",
       "      <td>0.0</td>\n",
       "    </tr>\n",
       "    <tr>\n",
       "      <th>4</th>\n",
       "      <td>Jerry</td>\n",
       "      <td>NJ</td>\n",
       "      <td>1.0</td>\n",
       "    </tr>\n",
       "  </tbody>\n",
       "</table>\n",
       "</div>"
      ],
      "text/plain": [
       "      name state  is_hippy\n",
       "0  Harmony    NJ       1.0\n",
       "1    Sarah    CA       0.0\n",
       "2   Sharad    WA       0.0\n",
       "3       TJ    NY       0.0\n",
       "4    Jerry    NJ       1.0"
      ]
     },
     "execution_count": 227,
     "metadata": {},
     "output_type": "execute_result"
    }
   ],
   "source": [
    "#return a the customer_df with the fixed name\n",
    "customer_df.loc[customer_df[\"name\"]=='CJ', \"name\"] = 'TJ'\n",
    "customer_df"
   ]
  },
  {
   "cell_type": "markdown",
   "metadata": {},
   "source": [
    "### Lesson Recap\n",
    "\n",
    "Now that we have all of these new tools in our tool belt, let's take another look at our animal shelter data! \n",
    "\n",
    "- Use `shelter_data.columns` to get the list of column names\n",
    "- Drop columns from the animal shelter data until you have only 5 columns remaining\n",
    "- Rename those columns\n",
    "- Get the `unique()` values in outcomes \n",
    "- select rows of animals based on an application of boolean indexing\n",
    "\n",
    "For extra credit: add in your own new column on information to this DataFrame."
   ]
  },
  {
   "cell_type": "code",
   "execution_count": 229,
   "metadata": {},
   "outputs": [
    {
     "data": {
      "text/html": [
       "<div>\n",
       "<style scoped>\n",
       "    .dataframe tbody tr th:only-of-type {\n",
       "        vertical-align: middle;\n",
       "    }\n",
       "\n",
       "    .dataframe tbody tr th {\n",
       "        vertical-align: top;\n",
       "    }\n",
       "\n",
       "    .dataframe thead th {\n",
       "        text-align: right;\n",
       "    }\n",
       "</style>\n",
       "<table border=\"1\" class=\"dataframe\">\n",
       "  <thead>\n",
       "    <tr style=\"text-align: right;\">\n",
       "      <th></th>\n",
       "      <th>Animal ID</th>\n",
       "      <th>Name</th>\n",
       "      <th>DateTime</th>\n",
       "      <th>MonthYear</th>\n",
       "      <th>Date of Birth</th>\n",
       "      <th>Outcome Type</th>\n",
       "      <th>Outcome Subtype</th>\n",
       "      <th>Animal Type</th>\n",
       "      <th>Sex upon Outcome</th>\n",
       "      <th>Age upon Outcome</th>\n",
       "      <th>Breed</th>\n",
       "      <th>Color</th>\n",
       "    </tr>\n",
       "  </thead>\n",
       "  <tbody>\n",
       "    <tr>\n",
       "      <th>0</th>\n",
       "      <td>A793392</td>\n",
       "      <td>NaN</td>\n",
       "      <td>04/24/2019 09:37:00 PM</td>\n",
       "      <td>04/24/2019 09:37:00 PM</td>\n",
       "      <td>04/22/2019</td>\n",
       "      <td>Transfer</td>\n",
       "      <td>Partner</td>\n",
       "      <td>Cat</td>\n",
       "      <td>Intact Male</td>\n",
       "      <td>2 days</td>\n",
       "      <td>Domestic Shorthair Mix</td>\n",
       "      <td>White/Black</td>\n",
       "    </tr>\n",
       "    <tr>\n",
       "      <th>1</th>\n",
       "      <td>A793087</td>\n",
       "      <td>*Jeepers</td>\n",
       "      <td>04/24/2019 07:04:00 PM</td>\n",
       "      <td>04/24/2019 07:04:00 PM</td>\n",
       "      <td>04/19/2017</td>\n",
       "      <td>Adoption</td>\n",
       "      <td>NaN</td>\n",
       "      <td>Dog</td>\n",
       "      <td>Neutered Male</td>\n",
       "      <td>2 years</td>\n",
       "      <td>Harrier Mix</td>\n",
       "      <td>Black/Tricolor</td>\n",
       "    </tr>\n",
       "    <tr>\n",
       "      <th>2</th>\n",
       "      <td>A793417</td>\n",
       "      <td>Diamond</td>\n",
       "      <td>04/24/2019 07:04:00 PM</td>\n",
       "      <td>04/24/2019 07:04:00 PM</td>\n",
       "      <td>04/24/2018</td>\n",
       "      <td>Return to Owner</td>\n",
       "      <td>NaN</td>\n",
       "      <td>Dog</td>\n",
       "      <td>Spayed Female</td>\n",
       "      <td>1 year</td>\n",
       "      <td>Pit Bull Mix</td>\n",
       "      <td>Chocolate/White</td>\n",
       "    </tr>\n",
       "    <tr>\n",
       "      <th>3</th>\n",
       "      <td>A793416</td>\n",
       "      <td>NaN</td>\n",
       "      <td>04/24/2019 07:00:00 PM</td>\n",
       "      <td>04/24/2019 07:00:00 PM</td>\n",
       "      <td>02/24/2019</td>\n",
       "      <td>Euthanasia</td>\n",
       "      <td>Rabies Risk</td>\n",
       "      <td>Other</td>\n",
       "      <td>Unknown</td>\n",
       "      <td>NaN</td>\n",
       "      <td>Raccoon Mix</td>\n",
       "      <td>Black/White</td>\n",
       "    </tr>\n",
       "    <tr>\n",
       "      <th>4</th>\n",
       "      <td>A772415</td>\n",
       "      <td>Sky</td>\n",
       "      <td>04/24/2019 06:48:00 PM</td>\n",
       "      <td>04/24/2019 06:48:00 PM</td>\n",
       "      <td>04/12/2018</td>\n",
       "      <td>Adoption</td>\n",
       "      <td>Foster</td>\n",
       "      <td>Dog</td>\n",
       "      <td>Spayed Female</td>\n",
       "      <td>1 year</td>\n",
       "      <td>Border Collie Mix</td>\n",
       "      <td>Sable</td>\n",
       "    </tr>\n",
       "  </tbody>\n",
       "</table>\n",
       "</div>"
      ],
      "text/plain": [
       "  Animal ID      Name                DateTime               MonthYear  \\\n",
       "0   A793392       NaN  04/24/2019 09:37:00 PM  04/24/2019 09:37:00 PM   \n",
       "1   A793087  *Jeepers  04/24/2019 07:04:00 PM  04/24/2019 07:04:00 PM   \n",
       "2   A793417   Diamond  04/24/2019 07:04:00 PM  04/24/2019 07:04:00 PM   \n",
       "3   A793416       NaN  04/24/2019 07:00:00 PM  04/24/2019 07:00:00 PM   \n",
       "4   A772415       Sky  04/24/2019 06:48:00 PM  04/24/2019 06:48:00 PM   \n",
       "\n",
       "  Date of Birth     Outcome Type Outcome Subtype Animal Type Sex upon Outcome  \\\n",
       "0    04/22/2019         Transfer         Partner         Cat      Intact Male   \n",
       "1    04/19/2017         Adoption             NaN         Dog    Neutered Male   \n",
       "2    04/24/2018  Return to Owner             NaN         Dog    Spayed Female   \n",
       "3    02/24/2019       Euthanasia     Rabies Risk       Other          Unknown   \n",
       "4    04/12/2018         Adoption          Foster         Dog    Spayed Female   \n",
       "\n",
       "  Age upon Outcome                   Breed            Color  \n",
       "0           2 days  Domestic Shorthair Mix      White/Black  \n",
       "1          2 years             Harrier Mix   Black/Tricolor  \n",
       "2           1 year            Pit Bull Mix  Chocolate/White  \n",
       "3              NaN             Raccoon Mix      Black/White  \n",
       "4           1 year       Border Collie Mix            Sable  "
      ]
     },
     "execution_count": 229,
     "metadata": {},
     "output_type": "execute_result"
    }
   ],
   "source": [
    "shelter_data.columns\n",
    "shelter_data.head()"
   ]
  },
  {
   "cell_type": "code",
   "execution_count": 249,
   "metadata": {},
   "outputs": [],
   "source": [
    "shelter_df = shelter_data.drop(columns=['Animal ID', 'DateTime', 'MonthYear', 'Date of Birth', 'Outcome Subtype', 'Sex upon Outcome', 'Age upon Outcome'])"
   ]
  },
  {
   "cell_type": "code",
   "execution_count": 250,
   "metadata": {},
   "outputs": [],
   "source": [
    "shelter_df.columns = ['name', 'outcome_type', 'animal_type', 'breed', 'color']\n",
    "# shelter_df.unique()"
   ]
  },
  {
   "cell_type": "code",
   "execution_count": 251,
   "metadata": {},
   "outputs": [
    {
     "data": {
      "text/plain": [
       "array(['Transfer', 'Adoption', 'Return to Owner', 'Euthanasia', 'Died',\n",
       "       nan, 'Rto-Adopt', 'Disposal', 'Missing', 'Relocate'], dtype=object)"
      ]
     },
     "execution_count": 251,
     "metadata": {},
     "output_type": "execute_result"
    }
   ],
   "source": [
    "shelter_df.outcome_type.unique()"
   ]
  },
  {
   "cell_type": "code",
   "execution_count": 257,
   "metadata": {},
   "outputs": [
    {
     "data": {
      "text/html": [
       "<div>\n",
       "<style scoped>\n",
       "    .dataframe tbody tr th:only-of-type {\n",
       "        vertical-align: middle;\n",
       "    }\n",
       "\n",
       "    .dataframe tbody tr th {\n",
       "        vertical-align: top;\n",
       "    }\n",
       "\n",
       "    .dataframe thead th {\n",
       "        text-align: right;\n",
       "    }\n",
       "</style>\n",
       "<table border=\"1\" class=\"dataframe\">\n",
       "  <thead>\n",
       "    <tr style=\"text-align: right;\">\n",
       "      <th></th>\n",
       "      <th>name</th>\n",
       "      <th>outcome_type</th>\n",
       "      <th>animal_type</th>\n",
       "      <th>breed</th>\n",
       "      <th>color</th>\n",
       "    </tr>\n",
       "  </thead>\n",
       "  <tbody>\n",
       "    <tr>\n",
       "      <th>13</th>\n",
       "      <td>Arlo</td>\n",
       "      <td>Adoption</td>\n",
       "      <td>Cat</td>\n",
       "      <td>Domestic Shorthair Mix</td>\n",
       "      <td>Black/White</td>\n",
       "    </tr>\n",
       "    <tr>\n",
       "      <th>16</th>\n",
       "      <td>NaN</td>\n",
       "      <td>Adoption</td>\n",
       "      <td>Cat</td>\n",
       "      <td>Siamese Mix</td>\n",
       "      <td>Lynx Point/White</td>\n",
       "    </tr>\n",
       "    <tr>\n",
       "      <th>18</th>\n",
       "      <td>NaN</td>\n",
       "      <td>Adoption</td>\n",
       "      <td>Cat</td>\n",
       "      <td>Siamese Mix</td>\n",
       "      <td>Lynx Point/White</td>\n",
       "    </tr>\n",
       "    <tr>\n",
       "      <th>19</th>\n",
       "      <td>NaN</td>\n",
       "      <td>Adoption</td>\n",
       "      <td>Cat</td>\n",
       "      <td>Siamese Mix</td>\n",
       "      <td>Lynx Point/White</td>\n",
       "    </tr>\n",
       "    <tr>\n",
       "      <th>54</th>\n",
       "      <td>Luna</td>\n",
       "      <td>Adoption</td>\n",
       "      <td>Cat</td>\n",
       "      <td>Ragdoll Mix</td>\n",
       "      <td>Lynx Point</td>\n",
       "    </tr>\n",
       "  </tbody>\n",
       "</table>\n",
       "</div>"
      ],
      "text/plain": [
       "    name outcome_type animal_type                   breed             color\n",
       "13  Arlo     Adoption         Cat  Domestic Shorthair Mix       Black/White\n",
       "16   NaN     Adoption         Cat             Siamese Mix  Lynx Point/White\n",
       "18   NaN     Adoption         Cat             Siamese Mix  Lynx Point/White\n",
       "19   NaN     Adoption         Cat             Siamese Mix  Lynx Point/White\n",
       "54  Luna     Adoption         Cat             Ragdoll Mix        Lynx Point"
      ]
     },
     "execution_count": 257,
     "metadata": {},
     "output_type": "execute_result"
    }
   ],
   "source": [
    "shelter_df[(shelter_df.outcome_type == 'Adoption') & (shelter_df.animal_type == 'Cat')].head()"
   ]
  },
  {
   "cell_type": "code",
   "execution_count": 281,
   "metadata": {},
   "outputs": [
    {
     "data": {
      "text/html": [
       "<div>\n",
       "<style scoped>\n",
       "    .dataframe tbody tr th:only-of-type {\n",
       "        vertical-align: middle;\n",
       "    }\n",
       "\n",
       "    .dataframe tbody tr th {\n",
       "        vertical-align: top;\n",
       "    }\n",
       "\n",
       "    .dataframe thead th {\n",
       "        text-align: right;\n",
       "    }\n",
       "</style>\n",
       "<table border=\"1\" class=\"dataframe\">\n",
       "  <thead>\n",
       "    <tr style=\"text-align: right;\">\n",
       "      <th></th>\n",
       "      <th>name</th>\n",
       "      <th>outcome_type</th>\n",
       "      <th>animal_type</th>\n",
       "      <th>breed</th>\n",
       "      <th>color</th>\n",
       "      <th>andy_favorite</th>\n",
       "    </tr>\n",
       "  </thead>\n",
       "  <tbody>\n",
       "    <tr>\n",
       "      <th>34717</th>\n",
       "      <td>NaN</td>\n",
       "      <td>Adoption</td>\n",
       "      <td>Dog</td>\n",
       "      <td>Chihuahua Shorthair Mix</td>\n",
       "      <td>Brown</td>\n",
       "      <td>0</td>\n",
       "    </tr>\n",
       "    <tr>\n",
       "      <th>92891</th>\n",
       "      <td>Chloe</td>\n",
       "      <td>Adoption</td>\n",
       "      <td>Cat</td>\n",
       "      <td>Domestic Shorthair Mix</td>\n",
       "      <td>Calico</td>\n",
       "      <td>1</td>\n",
       "    </tr>\n",
       "    <tr>\n",
       "      <th>96161</th>\n",
       "      <td>*Pepper</td>\n",
       "      <td>Adoption</td>\n",
       "      <td>Dog</td>\n",
       "      <td>Miniature Poodle Mix</td>\n",
       "      <td>Black</td>\n",
       "      <td>0</td>\n",
       "    </tr>\n",
       "    <tr>\n",
       "      <th>97506</th>\n",
       "      <td>Katrina</td>\n",
       "      <td>Transfer</td>\n",
       "      <td>Dog</td>\n",
       "      <td>Rottweiler Mix</td>\n",
       "      <td>Black/Tan</td>\n",
       "      <td>0</td>\n",
       "    </tr>\n",
       "    <tr>\n",
       "      <th>8825</th>\n",
       "      <td>Beau</td>\n",
       "      <td>Adoption</td>\n",
       "      <td>Dog</td>\n",
       "      <td>Chihuahua Shorthair/Cardigan Welsh Corgi</td>\n",
       "      <td>Tricolor/Black</td>\n",
       "      <td>0</td>\n",
       "    </tr>\n",
       "    <tr>\n",
       "      <th>43522</th>\n",
       "      <td>NaN</td>\n",
       "      <td>Transfer</td>\n",
       "      <td>Cat</td>\n",
       "      <td>Domestic Shorthair Mix</td>\n",
       "      <td>Brown Tabby</td>\n",
       "      <td>0</td>\n",
       "    </tr>\n",
       "    <tr>\n",
       "      <th>66762</th>\n",
       "      <td>NaN</td>\n",
       "      <td>Adoption</td>\n",
       "      <td>Cat</td>\n",
       "      <td>Domestic Shorthair Mix</td>\n",
       "      <td>Orange Tabby</td>\n",
       "      <td>0</td>\n",
       "    </tr>\n",
       "    <tr>\n",
       "      <th>61595</th>\n",
       "      <td>*Jackson</td>\n",
       "      <td>Transfer</td>\n",
       "      <td>Cat</td>\n",
       "      <td>Domestic Shorthair Mix</td>\n",
       "      <td>Black/White</td>\n",
       "      <td>0</td>\n",
       "    </tr>\n",
       "    <tr>\n",
       "      <th>15041</th>\n",
       "      <td>NaN</td>\n",
       "      <td>Adoption</td>\n",
       "      <td>Dog</td>\n",
       "      <td>Labrador Retriever Mix</td>\n",
       "      <td>Chocolate/White</td>\n",
       "      <td>0</td>\n",
       "    </tr>\n",
       "    <tr>\n",
       "      <th>54011</th>\n",
       "      <td>Beauty</td>\n",
       "      <td>Return to Owner</td>\n",
       "      <td>Dog</td>\n",
       "      <td>Pit Bull Mix</td>\n",
       "      <td>White/Blue</td>\n",
       "      <td>0</td>\n",
       "    </tr>\n",
       "  </tbody>\n",
       "</table>\n",
       "</div>"
      ],
      "text/plain": [
       "           name     outcome_type animal_type  \\\n",
       "34717       NaN         Adoption         Dog   \n",
       "92891     Chloe         Adoption         Cat   \n",
       "96161   *Pepper         Adoption         Dog   \n",
       "97506   Katrina         Transfer         Dog   \n",
       "8825       Beau         Adoption         Dog   \n",
       "43522       NaN         Transfer         Cat   \n",
       "66762       NaN         Adoption         Cat   \n",
       "61595  *Jackson         Transfer         Cat   \n",
       "15041       NaN         Adoption         Dog   \n",
       "54011    Beauty  Return to Owner         Dog   \n",
       "\n",
       "                                          breed            color  \\\n",
       "34717                   Chihuahua Shorthair Mix            Brown   \n",
       "92891                    Domestic Shorthair Mix           Calico   \n",
       "96161                      Miniature Poodle Mix            Black   \n",
       "97506                            Rottweiler Mix        Black/Tan   \n",
       "8825   Chihuahua Shorthair/Cardigan Welsh Corgi   Tricolor/Black   \n",
       "43522                    Domestic Shorthair Mix      Brown Tabby   \n",
       "66762                    Domestic Shorthair Mix     Orange Tabby   \n",
       "61595                    Domestic Shorthair Mix      Black/White   \n",
       "15041                    Labrador Retriever Mix  Chocolate/White   \n",
       "54011                              Pit Bull Mix       White/Blue   \n",
       "\n",
       "       andy_favorite  \n",
       "34717              0  \n",
       "92891              1  \n",
       "96161              0  \n",
       "97506              0  \n",
       "8825               0  \n",
       "43522              0  \n",
       "66762              0  \n",
       "61595              0  \n",
       "15041              0  \n",
       "54011              0  "
      ]
     },
     "execution_count": 281,
     "metadata": {},
     "output_type": "execute_result"
    }
   ],
   "source": [
    "shelter_df['andy_favorite'] = 0\n",
    "shelter_df.loc[(shelter_df.animal_type == 'Cat') & (shelter_df.color == 'Calico'), 'andy_favorite'] = 1\n",
    "\n",
    "shelter_df.sample(10)"
   ]
  },
  {
   "cell_type": "markdown",
   "metadata": {},
   "source": [
    "## Assessment & Reflection"
   ]
  },
  {
   "cell_type": "code",
   "execution_count": null,
   "metadata": {},
   "outputs": [],
   "source": []
  }
 ],
 "metadata": {
  "kernelspec": {
   "display_name": "Python 3",
   "language": "python",
   "name": "python3"
  },
  "language_info": {
   "codemirror_mode": {
    "name": "ipython",
    "version": 3
   },
   "file_extension": ".py",
   "mimetype": "text/x-python",
   "name": "python",
   "nbconvert_exporter": "python",
   "pygments_lexer": "ipython3",
   "version": "3.7.1"
  }
 },
 "nbformat": 4,
 "nbformat_minor": 2
}
